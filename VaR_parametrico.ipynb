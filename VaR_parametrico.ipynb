{
 "cells": [
  {
   "cell_type": "markdown",
   "id": "2b0d12c4-37c4-4af6-8175-def0185e2686",
   "metadata": {},
   "source": [
    "<h1 style=\"color:red;text-align:center;font-size:50px\">Ejemplo de VaR paramétrico</h1>"
   ]
  },
  {
   "cell_type": "markdown",
   "id": "2936f8ac-095d-4d65-8962-3822223e250b",
   "metadata": {},
   "source": [
    "# 📖 **Introducción** \n",
    "<p>El Valor en Riesgo (VaR) es una métrica financiera utilizada para estimar la posible pérdida en el valor de una inversión o cartera durante un período de tiempo determinado, con un nivel de confianza específico. Proporciona una medida probabilística de la peor pérdida esperada bajo condiciones normales de mercado.</p>"
   ]
  },
  {
   "cell_type": "markdown",
   "id": "d481794a-5381-4ebd-8adc-0ada0da339a4",
   "metadata": {},
   "source": [
    "# 🎯 **Objetivo**  \n",
    "\n",
    "El propósito de este análisis es calcular el **Valor en Riesgo (VaR) al 95% de confianza** para un portafolio de inversión de **$300,000,000 COP**, distribuido de la siguiente manera:  \n",
    "\n",
    "📌 **55% en acciones de Ecopetrol**  \n",
    "📌 **45% en acciones de Celsia**  \n",
    "\n",
    "Para ello, aplicaremos el **método paramétrico**, el cual se basa en la estimación de los retornos esperados, la varianza de cada activo y la covarianza entre ellos. Estos parámetros nos permitirán modelar la distribución normal de los retornos del portafolio, asumiendo que dichos retornos siguen una distribución normal.  \n",
    "\n",
    "✅ Con este enfoque, determinaremos la **máxima pérdida esperada bajo condiciones normales de mercado**.  \n"
   ]
  },
  {
   "cell_type": "markdown",
   "id": "eda63c5f-fd10-47e2-85b9-fe635a8d2e6e",
   "metadata": {},
   "source": [
    "# 📊 **Metodología**  \n",
    "\n",
    "Para calcular el **Valor en Riesgo (VaR) histórico** del portafolio, seguimos estos pasos:  \n",
    "\n",
    "### 1️⃣ **Obtención de datos**  \n",
    "📥 Descargamos los precios de cierre históricos de las acciones de **Ecopetrol** y **Celsia** desde *Yahoo Finance*.  \n",
    "\n",
    "### 2️⃣ **Cálculo de retornos diarios**  \n",
    "📈 Calculamos los rendimientos diarios de cada acción a partir de la variación porcentual entre precios consecutivos.  \n",
    "\n",
    "### 3️⃣ **Cálculo de los parámetros de cada acción**  \n",
    "🔢 Determinamos la **varianza** y el **promedio (retorno esperado)** de las acciones de **Ecopetrol** y **Celsia**.  \n",
    "\n",
    "### 4️⃣ **Cálculo de la covarianza**  \n",
    "📊 Calculamos la **covarianza** entre los retornos diarios de **Ecopetrol** y **Celsia**, lo que nos permite medir la relación y dependencia entre ambos activos.  \n",
    "\n",
    "### 5️⃣ **Cálculo de la desviación estándar y retorno del portafolio**  \n",
    "📉 Calculamos la **desviación estándar** del portafolio conformado por **Ecopetrol** y **Celsia**, así como su **retorno esperado**.  \n",
    "\n",
    "### 6️⃣ **Cálculo del VaR paramétrico**  \n",
    "📌 Aplicamos la fórmula del **VaR paramétrico**, asumiendo que los retornos siguen una distribución normal, para estimar la pérdida potencial del portafolio con un **95% de confianza**.  \n",
    "\n",
    "### 7️⃣ **Visualización de la distribución normal del portafolio**  \n",
    " 📊 Se muestra la **distribución de probabilidad de los retornos**, destacando el área donde el **VaR es superado**. Esto facilita la interpretación del riesgo y permite visualizar claramente el umbral crítico de pérdidas.  \n",
    "\n",
    "---"
   ]
  },
  {
   "cell_type": "markdown",
   "id": "b4f9cdae-a378-46da-8165-9ab1abbc62ff",
   "metadata": {},
   "source": [
    "# 🚀 Ejecución"
   ]
  },
  {
   "cell_type": "code",
   "execution_count": 1,
   "id": "6544f0b5-8ccd-473e-8de9-f3d20a38048e",
   "metadata": {},
   "outputs": [],
   "source": [
    "import yfinance as yf \n",
    "import numpy as np\n",
    "from scipy.stats import norm \n",
    "import matplotlib.pyplot as plt\n",
    "import seaborn as sns "
   ]
  },
  {
   "cell_type": "markdown",
   "id": "458d24ac-f70c-4ff7-ad3e-2ec23c5795b7",
   "metadata": {},
   "source": [
    "**yfinance**: Es una API que permite obtener datos financieros reales desde *Yahoo Finance*, incluyendo precios de acciones, volúmenes y otros indicadores.  \n",
    "\n",
    "**numpy**: Es una biblioteca de Python que facilita la manipulación y el cálculo eficiente de arreglos numéricos, siendo ampliamente utilizada en operaciones matemáticas y científicas.  \n"
   ]
  },
  {
   "cell_type": "code",
   "execution_count": 2,
   "id": "0f47064a-bc8f-4399-9379-193d0d546228",
   "metadata": {},
   "outputs": [],
   "source": [
    "\"\"\"\n",
    "* Se crean objetos Ticker para las acciones de Ecopetrol y Celsia en la Bolsa de Valores de Colombia.\n",
    "* Se descargan los datos históricos de precios para un año, concretamente entre el 11 de marzo de 2024 y el 11 de marzo de 2025.\n",
    "\"\"\"\n",
    "dat_ec = yf.Ticker(\"ECOPETROL.CL\") \n",
    "dat_cl = yf.Ticker(\"CELSIA.CL\") \n",
    "\n",
    "datos_ecopetrol = dat_ec.history(start=\"2024-03-11\",end=\"2025-03-12\")\n",
    "datos_celsia = dat_cl.history(start=\"2024-03-11\",end=\"2025-03-12\")"
   ]
  },
  {
   "cell_type": "code",
   "execution_count": 3,
   "id": "d736930e-a9ff-4ab7-b162-e5dfcab09ad7",
   "metadata": {},
   "outputs": [
    {
     "data": {
      "text/html": [
       "<div>\n",
       "<style scoped>\n",
       "    .dataframe tbody tr th:only-of-type {\n",
       "        vertical-align: middle;\n",
       "    }\n",
       "\n",
       "    .dataframe tbody tr th {\n",
       "        vertical-align: top;\n",
       "    }\n",
       "\n",
       "    .dataframe thead th {\n",
       "        text-align: right;\n",
       "    }\n",
       "</style>\n",
       "<table border=\"1\" class=\"dataframe\">\n",
       "  <thead>\n",
       "    <tr style=\"text-align: right;\">\n",
       "      <th></th>\n",
       "      <th>Open</th>\n",
       "      <th>High</th>\n",
       "      <th>Low</th>\n",
       "      <th>Close</th>\n",
       "      <th>Volume</th>\n",
       "      <th>Dividends</th>\n",
       "      <th>Stock Splits</th>\n",
       "    </tr>\n",
       "    <tr>\n",
       "      <th>Date</th>\n",
       "      <th></th>\n",
       "      <th></th>\n",
       "      <th></th>\n",
       "      <th></th>\n",
       "      <th></th>\n",
       "      <th></th>\n",
       "      <th></th>\n",
       "    </tr>\n",
       "  </thead>\n",
       "  <tbody>\n",
       "    <tr>\n",
       "      <th>2024-03-11 00:00:00-04:00</th>\n",
       "      <td>1839.808770</td>\n",
       "      <td>1862.245463</td>\n",
       "      <td>1812.884740</td>\n",
       "      <td>1848.783447</td>\n",
       "      <td>7513846</td>\n",
       "      <td>0.0</td>\n",
       "      <td>0.0</td>\n",
       "    </tr>\n",
       "    <tr>\n",
       "      <th>2024-03-12 00:00:00-04:00</th>\n",
       "      <td>1848.783468</td>\n",
       "      <td>1875.707499</td>\n",
       "      <td>1839.808791</td>\n",
       "      <td>1862.245483</td>\n",
       "      <td>4786471</td>\n",
       "      <td>0.0</td>\n",
       "      <td>0.0</td>\n",
       "    </tr>\n",
       "    <tr>\n",
       "      <th>2024-03-13 00:00:00-04:00</th>\n",
       "      <td>1884.682265</td>\n",
       "      <td>1898.144281</td>\n",
       "      <td>1866.732910</td>\n",
       "      <td>1866.732910</td>\n",
       "      <td>3251229</td>\n",
       "      <td>0.0</td>\n",
       "      <td>0.0</td>\n",
       "    </tr>\n",
       "    <tr>\n",
       "      <th>2024-03-14 00:00:00-04:00</th>\n",
       "      <td>1871.220221</td>\n",
       "      <td>1902.631592</td>\n",
       "      <td>1857.758205</td>\n",
       "      <td>1902.631592</td>\n",
       "      <td>7189970</td>\n",
       "      <td>0.0</td>\n",
       "      <td>0.0</td>\n",
       "    </tr>\n",
       "    <tr>\n",
       "      <th>2024-03-15 00:00:00-04:00</th>\n",
       "      <td>1902.631591</td>\n",
       "      <td>1983.403687</td>\n",
       "      <td>1889.169575</td>\n",
       "      <td>1983.403687</td>\n",
       "      <td>46520253</td>\n",
       "      <td>0.0</td>\n",
       "      <td>0.0</td>\n",
       "    </tr>\n",
       "    <tr>\n",
       "      <th>...</th>\n",
       "      <td>...</td>\n",
       "      <td>...</td>\n",
       "      <td>...</td>\n",
       "      <td>...</td>\n",
       "      <td>...</td>\n",
       "      <td>...</td>\n",
       "      <td>...</td>\n",
       "    </tr>\n",
       "    <tr>\n",
       "      <th>2025-03-05 00:00:00-05:00</th>\n",
       "      <td>1691.726624</td>\n",
       "      <td>1745.574686</td>\n",
       "      <td>1691.726624</td>\n",
       "      <td>1732.112671</td>\n",
       "      <td>8718919</td>\n",
       "      <td>0.0</td>\n",
       "      <td>0.0</td>\n",
       "    </tr>\n",
       "    <tr>\n",
       "      <th>2025-03-06 00:00:00-05:00</th>\n",
       "      <td>1732.112685</td>\n",
       "      <td>1808.397440</td>\n",
       "      <td>1727.625346</td>\n",
       "      <td>1794.935425</td>\n",
       "      <td>9321401</td>\n",
       "      <td>0.0</td>\n",
       "      <td>0.0</td>\n",
       "    </tr>\n",
       "    <tr>\n",
       "      <th>2025-03-07 00:00:00-05:00</th>\n",
       "      <td>1794.935386</td>\n",
       "      <td>1848.783447</td>\n",
       "      <td>1794.935386</td>\n",
       "      <td>1848.783447</td>\n",
       "      <td>7431758</td>\n",
       "      <td>0.0</td>\n",
       "      <td>0.0</td>\n",
       "    </tr>\n",
       "    <tr>\n",
       "      <th>2025-03-10 00:00:00-04:00</th>\n",
       "      <td>1848.783564</td>\n",
       "      <td>1848.783564</td>\n",
       "      <td>1808.397515</td>\n",
       "      <td>1817.372192</td>\n",
       "      <td>6324735</td>\n",
       "      <td>0.0</td>\n",
       "      <td>0.0</td>\n",
       "    </tr>\n",
       "    <tr>\n",
       "      <th>2025-03-11 00:00:00-04:00</th>\n",
       "      <td>1817.372131</td>\n",
       "      <td>1839.808824</td>\n",
       "      <td>1768.011407</td>\n",
       "      <td>1776.986084</td>\n",
       "      <td>15499528</td>\n",
       "      <td>0.0</td>\n",
       "      <td>0.0</td>\n",
       "    </tr>\n",
       "  </tbody>\n",
       "</table>\n",
       "<p>251 rows × 7 columns</p>\n",
       "</div>"
      ],
      "text/plain": [
       "                                  Open         High          Low        Close  \\\n",
       "Date                                                                            \n",
       "2024-03-11 00:00:00-04:00  1839.808770  1862.245463  1812.884740  1848.783447   \n",
       "2024-03-12 00:00:00-04:00  1848.783468  1875.707499  1839.808791  1862.245483   \n",
       "2024-03-13 00:00:00-04:00  1884.682265  1898.144281  1866.732910  1866.732910   \n",
       "2024-03-14 00:00:00-04:00  1871.220221  1902.631592  1857.758205  1902.631592   \n",
       "2024-03-15 00:00:00-04:00  1902.631591  1983.403687  1889.169575  1983.403687   \n",
       "...                                ...          ...          ...          ...   \n",
       "2025-03-05 00:00:00-05:00  1691.726624  1745.574686  1691.726624  1732.112671   \n",
       "2025-03-06 00:00:00-05:00  1732.112685  1808.397440  1727.625346  1794.935425   \n",
       "2025-03-07 00:00:00-05:00  1794.935386  1848.783447  1794.935386  1848.783447   \n",
       "2025-03-10 00:00:00-04:00  1848.783564  1848.783564  1808.397515  1817.372192   \n",
       "2025-03-11 00:00:00-04:00  1817.372131  1839.808824  1768.011407  1776.986084   \n",
       "\n",
       "                             Volume  Dividends  Stock Splits  \n",
       "Date                                                          \n",
       "2024-03-11 00:00:00-04:00   7513846        0.0           0.0  \n",
       "2024-03-12 00:00:00-04:00   4786471        0.0           0.0  \n",
       "2024-03-13 00:00:00-04:00   3251229        0.0           0.0  \n",
       "2024-03-14 00:00:00-04:00   7189970        0.0           0.0  \n",
       "2024-03-15 00:00:00-04:00  46520253        0.0           0.0  \n",
       "...                             ...        ...           ...  \n",
       "2025-03-05 00:00:00-05:00   8718919        0.0           0.0  \n",
       "2025-03-06 00:00:00-05:00   9321401        0.0           0.0  \n",
       "2025-03-07 00:00:00-05:00   7431758        0.0           0.0  \n",
       "2025-03-10 00:00:00-04:00   6324735        0.0           0.0  \n",
       "2025-03-11 00:00:00-04:00  15499528        0.0           0.0  \n",
       "\n",
       "[251 rows x 7 columns]"
      ]
     },
     "execution_count": 3,
     "metadata": {},
     "output_type": "execute_result"
    }
   ],
   "source": [
    "datos_ecopetrol"
   ]
  },
  {
   "cell_type": "markdown",
   "id": "c25f1434-79f0-4f1f-b473-e0b29217cbf7",
   "metadata": {},
   "source": [
    "\n",
    "### ☝️ **Descripción de la Tabla**  \n",
    "\n",
    "Esta tabla presenta los 5 valores más antiguos y los 5 más recientes dentro del período seleccionado para **Ecopetrol**.  \n",
    "\n",
    "Además, en la parte inferior se indica que el conjunto de datos contiene **251 registros** distribuidos en **7 columnas**, correspondientes a la información histórica de Ecopetrol.  \n"
   ]
  },
  {
   "cell_type": "code",
   "execution_count": 4,
   "id": "5665bdcf-3cd8-4f30-8254-4a4a30231724",
   "metadata": {},
   "outputs": [
    {
     "data": {
      "text/html": [
       "<div>\n",
       "<style scoped>\n",
       "    .dataframe tbody tr th:only-of-type {\n",
       "        vertical-align: middle;\n",
       "    }\n",
       "\n",
       "    .dataframe tbody tr th {\n",
       "        vertical-align: top;\n",
       "    }\n",
       "\n",
       "    .dataframe thead th {\n",
       "        text-align: right;\n",
       "    }\n",
       "</style>\n",
       "<table border=\"1\" class=\"dataframe\">\n",
       "  <thead>\n",
       "    <tr style=\"text-align: right;\">\n",
       "      <th></th>\n",
       "      <th>Open</th>\n",
       "      <th>High</th>\n",
       "      <th>Low</th>\n",
       "      <th>Close</th>\n",
       "      <th>Volume</th>\n",
       "      <th>Dividends</th>\n",
       "      <th>Stock Splits</th>\n",
       "    </tr>\n",
       "    <tr>\n",
       "      <th>Date</th>\n",
       "      <th></th>\n",
       "      <th></th>\n",
       "      <th></th>\n",
       "      <th></th>\n",
       "      <th></th>\n",
       "      <th></th>\n",
       "      <th></th>\n",
       "    </tr>\n",
       "  </thead>\n",
       "  <tbody>\n",
       "    <tr>\n",
       "      <th>2024-03-11 00:00:00-04:00</th>\n",
       "      <td>3563.944902</td>\n",
       "      <td>3573.071521</td>\n",
       "      <td>3536.565043</td>\n",
       "      <td>3559.381592</td>\n",
       "      <td>153741</td>\n",
       "      <td>0.0</td>\n",
       "      <td>0.0</td>\n",
       "    </tr>\n",
       "    <tr>\n",
       "      <th>2024-03-12 00:00:00-04:00</th>\n",
       "      <td>3573.071521</td>\n",
       "      <td>3595.888070</td>\n",
       "      <td>3527.438424</td>\n",
       "      <td>3559.381592</td>\n",
       "      <td>191639</td>\n",
       "      <td>0.0</td>\n",
       "      <td>0.0</td>\n",
       "    </tr>\n",
       "    <tr>\n",
       "      <th>2024-03-13 00:00:00-04:00</th>\n",
       "      <td>3550.255038</td>\n",
       "      <td>3550.255038</td>\n",
       "      <td>3541.128418</td>\n",
       "      <td>3541.128418</td>\n",
       "      <td>122083</td>\n",
       "      <td>0.0</td>\n",
       "      <td>0.0</td>\n",
       "    </tr>\n",
       "    <tr>\n",
       "      <th>2024-03-14 00:00:00-04:00</th>\n",
       "      <td>3541.128382</td>\n",
       "      <td>3541.128382</td>\n",
       "      <td>3500.058594</td>\n",
       "      <td>3500.058594</td>\n",
       "      <td>165578</td>\n",
       "      <td>0.0</td>\n",
       "      <td>0.0</td>\n",
       "    </tr>\n",
       "    <tr>\n",
       "      <th>2024-03-15 00:00:00-04:00</th>\n",
       "      <td>3504.622232</td>\n",
       "      <td>3532.002093</td>\n",
       "      <td>3194.317139</td>\n",
       "      <td>3194.317139</td>\n",
       "      <td>3558941</td>\n",
       "      <td>0.0</td>\n",
       "      <td>0.0</td>\n",
       "    </tr>\n",
       "    <tr>\n",
       "      <th>...</th>\n",
       "      <td>...</td>\n",
       "      <td>...</td>\n",
       "      <td>...</td>\n",
       "      <td>...</td>\n",
       "      <td>...</td>\n",
       "      <td>...</td>\n",
       "      <td>...</td>\n",
       "    </tr>\n",
       "    <tr>\n",
       "      <th>2025-03-05 00:00:00-05:00</th>\n",
       "      <td>3677.565623</td>\n",
       "      <td>3692.374613</td>\n",
       "      <td>3652.883975</td>\n",
       "      <td>3682.501953</td>\n",
       "      <td>461001</td>\n",
       "      <td>0.0</td>\n",
       "      <td>0.0</td>\n",
       "    </tr>\n",
       "    <tr>\n",
       "      <th>2025-03-06 00:00:00-05:00</th>\n",
       "      <td>3682.501953</td>\n",
       "      <td>3692.374613</td>\n",
       "      <td>3662.756634</td>\n",
       "      <td>3682.501953</td>\n",
       "      <td>405306</td>\n",
       "      <td>0.0</td>\n",
       "      <td>0.0</td>\n",
       "    </tr>\n",
       "    <tr>\n",
       "      <th>2025-03-07 00:00:00-05:00</th>\n",
       "      <td>3682.501895</td>\n",
       "      <td>3717.056203</td>\n",
       "      <td>3677.565566</td>\n",
       "      <td>3712.119873</td>\n",
       "      <td>643821</td>\n",
       "      <td>0.0</td>\n",
       "      <td>0.0</td>\n",
       "    </tr>\n",
       "    <tr>\n",
       "      <th>2025-03-10 00:00:00-04:00</th>\n",
       "      <td>3712.119881</td>\n",
       "      <td>3721.992540</td>\n",
       "      <td>3682.501903</td>\n",
       "      <td>3687.438232</td>\n",
       "      <td>254229</td>\n",
       "      <td>0.0</td>\n",
       "      <td>0.0</td>\n",
       "    </tr>\n",
       "    <tr>\n",
       "      <th>2025-03-11 00:00:00-04:00</th>\n",
       "      <td>3687.438342</td>\n",
       "      <td>3692.374671</td>\n",
       "      <td>3652.884033</td>\n",
       "      <td>3652.884033</td>\n",
       "      <td>352202</td>\n",
       "      <td>0.0</td>\n",
       "      <td>0.0</td>\n",
       "    </tr>\n",
       "  </tbody>\n",
       "</table>\n",
       "<p>251 rows × 7 columns</p>\n",
       "</div>"
      ],
      "text/plain": [
       "                                  Open         High          Low        Close  \\\n",
       "Date                                                                            \n",
       "2024-03-11 00:00:00-04:00  3563.944902  3573.071521  3536.565043  3559.381592   \n",
       "2024-03-12 00:00:00-04:00  3573.071521  3595.888070  3527.438424  3559.381592   \n",
       "2024-03-13 00:00:00-04:00  3550.255038  3550.255038  3541.128418  3541.128418   \n",
       "2024-03-14 00:00:00-04:00  3541.128382  3541.128382  3500.058594  3500.058594   \n",
       "2024-03-15 00:00:00-04:00  3504.622232  3532.002093  3194.317139  3194.317139   \n",
       "...                                ...          ...          ...          ...   \n",
       "2025-03-05 00:00:00-05:00  3677.565623  3692.374613  3652.883975  3682.501953   \n",
       "2025-03-06 00:00:00-05:00  3682.501953  3692.374613  3662.756634  3682.501953   \n",
       "2025-03-07 00:00:00-05:00  3682.501895  3717.056203  3677.565566  3712.119873   \n",
       "2025-03-10 00:00:00-04:00  3712.119881  3721.992540  3682.501903  3687.438232   \n",
       "2025-03-11 00:00:00-04:00  3687.438342  3692.374671  3652.884033  3652.884033   \n",
       "\n",
       "                            Volume  Dividends  Stock Splits  \n",
       "Date                                                         \n",
       "2024-03-11 00:00:00-04:00   153741        0.0           0.0  \n",
       "2024-03-12 00:00:00-04:00   191639        0.0           0.0  \n",
       "2024-03-13 00:00:00-04:00   122083        0.0           0.0  \n",
       "2024-03-14 00:00:00-04:00   165578        0.0           0.0  \n",
       "2024-03-15 00:00:00-04:00  3558941        0.0           0.0  \n",
       "...                            ...        ...           ...  \n",
       "2025-03-05 00:00:00-05:00   461001        0.0           0.0  \n",
       "2025-03-06 00:00:00-05:00   405306        0.0           0.0  \n",
       "2025-03-07 00:00:00-05:00   643821        0.0           0.0  \n",
       "2025-03-10 00:00:00-04:00   254229        0.0           0.0  \n",
       "2025-03-11 00:00:00-04:00   352202        0.0           0.0  \n",
       "\n",
       "[251 rows x 7 columns]"
      ]
     },
     "execution_count": 4,
     "metadata": {},
     "output_type": "execute_result"
    }
   ],
   "source": [
    "datos_celsia"
   ]
  },
  {
   "cell_type": "markdown",
   "id": "93d756c1-a1be-466d-9441-8dd74f317c42",
   "metadata": {},
   "source": [
    "\n",
    "### ☝️ **Descripción de la Tabla**  \n",
    "\n",
    "Esta tabla presenta los 5 valores más antiguos y los 5 más recientes dentro del período seleccionado para **Celsia**.  \n",
    "\n",
    "Además, en la parte inferior se indica que el conjunto de datos contiene **251 registros** distribuidos en **7 columnas**, correspondientes a la información histórica de Ecopetrol.  \n"
   ]
  },
  {
   "cell_type": "code",
   "execution_count": 5,
   "id": "c159a452-d9e5-4e6f-931c-fc74d5dce7d7",
   "metadata": {},
   "outputs": [],
   "source": [
    "\"\"\"\n",
    "📌 **Selección de Datos**  \n",
    "Se extraen únicamente los datos del precio de cierre de las acciones de Celsia y Ecopetrol\n",
    "ya que es la información necesaria para calcular el VaR del portafolio.  \n",
    "\"\"\"\n",
    "\n",
    "accion_ecopetrol = datos_ecopetrol[['Close']].copy() #metodo copy() para evitar generar cambios en el dataframe original\n",
    "accion_celsia = datos_celsia[['Close']].copy()"
   ]
  },
  {
   "cell_type": "markdown",
   "id": "a46bc0af-62f1-45a8-b842-683c86641d36",
   "metadata": {},
   "source": [
    "### 2️⃣ **Cálculo de retornos diarios**  "
   ]
  },
  {
   "cell_type": "markdown",
   "id": "cc47fa7e-c424-4c2c-8072-9c1a46898184",
   "metadata": {},
   "source": [
    "El **retorno diario** mide la variación porcentual en el precio de cierre de una acción respecto al día anterior. Se calcula utilizando la siguiente fórmula:  \n",
    "\n",
    "$$\n",
    "R_t = \\frac{P_t - P_{t-1}}{P_{t-1}}\n",
    "$$\n",
    "\n",
    "Donde:  \n",
    "- $R_t$: es el retorno del día \\( t \\).  \n",
    "- $P_t$: es el precio de cierre en el día \\( t \\).  \n",
    "- $P_{t-1}$: es el precio de cierre en el día \\( t-1 \\). "
   ]
  },
  {
   "cell_type": "code",
   "execution_count": 6,
   "id": "a6db153a-02e7-42d2-8cf7-5973b83bca98",
   "metadata": {},
   "outputs": [],
   "source": [
    "\"\"\"  \n",
    "Las siguientes líneas de código calculan el retorno diario de las acciones de Ecopetrol y Celsia,  \n",
    "usando la variación porcentual entre el precio de cierre actual y el del día anterior.  \n",
    "\"\"\"  \n",
    "\n",
    "accion_ecopetrol['Retorno_diario'] = (accion_ecopetrol['Close'] - accion_ecopetrol['Close'].shift(1))/accion_ecopetrol['Close'].shift(1)\n",
    "accion_ecopetrol.fillna(0, inplace=True)\n",
    "accion_celsia['Retorno_diario'] = (accion_celsia['Close'] - accion_celsia['Close'].shift(1))/accion_celsia['Close'].shift(1)\n",
    "accion_celsia.fillna(0, inplace=True)"
   ]
  },
  {
   "cell_type": "markdown",
   "id": "8a4455a2-906c-4bab-8b03-77e21ef50dc9",
   "metadata": {},
   "source": [
    "### 3️⃣ **Cálculo de los parámetros de cada acción**  "
   ]
  },
  {
   "cell_type": "code",
   "execution_count": 7,
   "id": "3dab9acf-b2e0-47ee-bc4a-cfad87395fce",
   "metadata": {},
   "outputs": [],
   "source": [
    "\"\"\" \n",
    "Calcula la varianza y el promedio de los retornos diarios de las acciones de Ecopetrol y Celsia.\n",
    "La varianza mide la volatilidad o dispersión de los retornos respecto a su promedio,\n",
    "mientras que el promedio representa el rendimiento esperado de la acción.\n",
    "\"\"\"\n",
    "var_Ecopetrol = accion_ecopetrol['Retorno_diario'].var() #varianza de los retornos diarios de ecopetrol\n",
    "exp_Ecopetrol = accion_ecopetrol['Retorno_diario'].mean() #promedio de los retornos diarios de ecopetrol \n",
    "\n",
    "var_Celsia = accion_celsia['Retorno_diario'].var() #varianza de los retornos diarios de celsia\n",
    "exp_Celsia = accion_celsia['Retorno_diario'].mean() #varianza de los retornos diarios "
   ]
  },
  {
   "cell_type": "markdown",
   "id": "2ba9c718-e07c-4658-98de-fba50b3273a3",
   "metadata": {},
   "source": [
    "### 4️⃣ **Cálculo de la covarianza** "
   ]
  },
  {
   "cell_type": "code",
   "execution_count": 8,
   "id": "2d01ab07-b383-40fc-9bd8-1fde20b92030",
   "metadata": {},
   "outputs": [
    {
     "data": {
      "text/plain": [
       "array([[7.61334479e-04, 6.30801327e-05],\n",
       "       [6.30801327e-05, 2.45040265e-04]])"
      ]
     },
     "execution_count": 8,
     "metadata": {},
     "output_type": "execute_result"
    }
   ],
   "source": [
    "\"\"\"\n",
    "Calcula la matriz de covarianza entre los retornos diarios de las acciones de Ecopetrol y Celsia.\n",
    "La covarianza mide la relación lineal entre ambas series de datos:\n",
    "- Un valor positivo indica que tienden a moverse en la misma dirección.\n",
    "- Un valor negativo indica que tienden a moverse en direcciones opuestas.\n",
    "- Un valor cercano a cero sugiere que no hay una relación lineal fuerte entre ellas.\n",
    "\"\"\"\n",
    "np.cov(accion_ecopetrol['Retorno_diario'],accion_celsia['Retorno_diario']) "
   ]
  },
  {
   "cell_type": "markdown",
   "id": "d7c72893-477e-48cd-a53b-47815c61a676",
   "metadata": {},
   "source": [
    "☝️ **Descripción del arreglo**\n",
    "\n",
    "Este arreglo representa la matriz de covarianza entre los retornos diarios de Ecopetrol y Celsia. Los elementos en la diagonal corresponden a la varianza de cada empresa: específicamente, el valor en la fila 1, columna 1, representa la varianza de Ecopetrol, mientras que el valor en la fila 2, columna 2, corresponde a la varianza de Celsia. Por otro lado, los elementos fuera de la diagonal reflejan la covarianza entre los retornos diarios de ambas compañías."
   ]
  },
  {
   "cell_type": "code",
   "execution_count": 9,
   "id": "c157076a-b07a-4d17-b4de-23a8e228a66d",
   "metadata": {},
   "outputs": [],
   "source": [
    "cov_Ecopetrol_Celsia = np.cov(accion_ecopetrol['Retorno_diario'],accion_celsia['Retorno_diario'])[0,1] #Se asigna el valor de la Covarianza entre los retornos diarios de Ecopetrol y Celsia"
   ]
  },
  {
   "cell_type": "markdown",
   "id": "9905f550-9373-42a5-9907-f6aaee771689",
   "metadata": {},
   "source": [
    "### 5️⃣ **Cálculo de la desviación estándar y retorno del portafolio**  "
   ]
  },
  {
   "cell_type": "code",
   "execution_count": 10,
   "id": "c0925605-fddc-418b-bea6-5485fa1b9057",
   "metadata": {},
   "outputs": [],
   "source": [
    "valor_portafolio = 300000000 \n",
    "peso_Ecopetrol = 0.55\n",
    "peso_Celsia = 0.45 "
   ]
  },
  {
   "cell_type": "markdown",
   "id": "4d7fed79-6b54-4c83-9617-81e9ec83d486",
   "metadata": {},
   "source": [
    "La **varianza de un portafolio** compuesto por dos activos se calcula con la siguiente fórmula:  \n",
    "\n",
    "$$var = W^2_{1}*σ^2_{1}+W^2_{2}*σ^2_{2}+2*W_{1}W_{2}cov_{1,2}$$\n",
    "\n",
    "En nuestro caso, variables de la formula son equivalentes a:\n",
    "\n",
    "- $var$: var_portafolio; *varianza del portafolio*\n",
    "- $W_{1}$: peso_Ecopetrol; *peso de Ecopetrol en el portafolio*\n",
    "- $σ^2_{1}$: var_Ecopetrol; *varianza de Ecopetrol*\n",
    "- $W_{2}$: peso_Celsia; *peso de Celsia en el portafolio*\n",
    "- $σ^2_{2}$: var_Celsia; *varianza de Celsia*\n",
    "- $cov_{1,2}$: cov_Ecopetrol_Celsia ; *covarianza entre Ecopetrol y Celsia*\n",
    "## 👇"
   ]
  },
  {
   "cell_type": "code",
   "execution_count": 11,
   "id": "fe590714-d7d7-4530-bcd1-243b2f642435",
   "metadata": {},
   "outputs": [],
   "source": [
    "var_portafolio = (peso_Ecopetrol**2)*var_Ecopetrol +(peso_Celsia**2)*var_Celsia +2*peso_Ecopetrol*peso_Celsia*cov_Ecopetrol_Celsia "
   ]
  },
  {
   "cell_type": "code",
   "execution_count": 12,
   "id": "0723a35d-8cad-4a8f-9b9a-82ef32af013e",
   "metadata": {},
   "outputs": [],
   "source": [
    "std_portafolio = np.sqrt(var_portafolio) # Asignamos a std_portafolio la raíz cuadrada de la varianza del portafolio, esto es, la desviación estándar del portafolio.viacion estandar del portafolio"
   ]
  },
  {
   "cell_type": "code",
   "execution_count": 13,
   "id": "8d0d6ac9-5235-4381-a7b6-a6e767f4393b",
   "metadata": {},
   "outputs": [],
   "source": [
    "\n",
    "\"\"\"\n",
    "Calcula el retorno esperado del portafolio.\n",
    "El retorno esperado es una medida del rendimiento promedio que se espera obtener del portafolio.\n",
    "\n",
    "- valor_portafolio: Valor total del portafolio.\n",
    "- exp_Ecopetrol y exp_Celsia: Retornos esperados de cada activo.\n",
    "- peso_Ecopetrol y peso_Celsia: Proporción de inversión en cada activo.\n",
    "\"\"\"\n",
    "\n",
    "exp_portafolio = valor_portafolio*(exp_Ecopetrol*peso_Ecopetrol+exp_Celsia*peso_Celsia) #Se calcula el retorno esperado del portafolio "
   ]
  },
  {
   "cell_type": "code",
   "execution_count": 14,
   "id": "9bbb8932-4685-4092-a396-3a957b2ada94",
   "metadata": {},
   "outputs": [
    {
     "name": "stdout",
     "output_type": "stream",
     "text": [
      "Retorno esperado del portafolio = $66,255.57\n"
     ]
    }
   ],
   "source": [
    "print('Retorno esperado del portafolio = ${:,.2f}'.format(exp_portafolio))"
   ]
  },
  {
   "cell_type": "markdown",
   "id": "7f03cbf3-2132-4e50-a12e-77bc7ff8ddbf",
   "metadata": {},
   "source": [
    "### 6️⃣ **Cálculo del VaR paramétrico**  "
   ]
  },
  {
   "cell_type": "markdown",
   "id": "f8a07314-b04e-4765-af11-5a66c99efb8d",
   "metadata": {},
   "source": [
    "El valor en riesgo del portafolio se describre por la ecuacion: \n",
    "$$VaR= \\text{Retorno Esperado}-\\text{Valor del Portafolio}*σ*Z$$\n",
    "Donde:\n",
    "- $σ$: desviacion estandar del portafolio\n",
    "- $z$: Z-score desde la izquierda para el 1-α (siendo alfa el nivel de confiaza)"
   ]
  },
  {
   "cell_type": "code",
   "execution_count": 15,
   "id": "83418161-95b5-41ff-8599-725f67b0ab50",
   "metadata": {},
   "outputs": [],
   "source": [
    "VaR = exp_portafolio -valor_portafolio*std_portafolio*1.645 #El Z-score que representa el 5% de la cola izquierda en una distribucion normal es 1.645"
   ]
  },
  {
   "cell_type": "code",
   "execution_count": 16,
   "id": "da5e3276-c3f1-45f7-825b-d5eb821f8a1a",
   "metadata": {},
   "outputs": [
    {
     "name": "stdout",
     "output_type": "stream",
     "text": [
      "VaR = $-8,638,796.259\n"
     ]
    }
   ],
   "source": [
    "print(\"VaR = ${:,.3f}\".format(VaR))"
   ]
  },
  {
   "cell_type": "markdown",
   "id": "08767718-ad0e-46a6-9366-dca61613ba44",
   "metadata": {},
   "source": [
    "☝️ El **VaR** obtenido indica que existe un 5% de probabilidad de que el portafolio sufra pérdidas de al menos **$8,638,796.259 COP**."
   ]
  },
  {
   "cell_type": "markdown",
   "id": "0e80d75a-394a-459a-ad3d-1c7338d69145",
   "metadata": {},
   "source": [
    "### 7️⃣ **Visualización de la distribución normal del portafolio**  \n",
    "A continuación, se grafica la distribucion normal que corresponde a los parametros calculados en el portafolio, el area sombreada en color naranja representan todos aquellos valores en la distribucion cuyas perdidas son de almenos **$8,638,796.259 COP** "
   ]
  },
  {
   "cell_type": "code",
   "execution_count": 17,
   "id": "cdbf9019-c537-4017-9f18-d3ae86a26a2d",
   "metadata": {},
   "outputs": [],
   "source": [
    "# Calcular la desviación estándar ajustada del portafolio en términos monetarios\n",
    "sigma = std_portafolio * valor_portafolio  \n",
    "\n",
    "\"\"\"  \n",
    "Generar 1000 valores espaciados uniformemente en un rango de ±4 desviaciones estándar  \n",
    "alrededor del retorno esperado del portafolio. Esto permite visualizar la distribución  \n",
    "de probabilidad con suficiente detalle.  \n",
    "\"\"\"\n",
    "x_axis = np.linspace(exp_portafolio - 4 * sigma, exp_portafolio + 4 * sigma, 1000)  \n",
    "\n",
    "# Calcular la función de densidad de probabilidad (PDF) de la distribución normal  \n",
    "# con media igual al retorno esperado y desviación estándar ajustada  \n",
    "y_axis = norm.pdf(x_axis, exp_portafolio, sigma)  "
   ]
  },
  {
   "cell_type": "code",
   "execution_count": 18,
   "id": "a3539040-014f-4771-83e4-c1655d38ab98",
   "metadata": {},
   "outputs": [
    {
     "data": {
      "image/png": "[encoded data removed]",
      "text/plain": [
       "<Figure size 1000x500 with 1 Axes>"
      ]
     },
     "metadata": {},
     "output_type": "display_data"
    }
   ],
   "source": [
    "\"\"\"\n",
    "Las siguientes líneas de código generan y muestran la gráfica de la distribución normal  \n",
    "del portafolio, utilizando los parámetros previamente calculados (media y desviación estándar).  \n",
    "\"\"\"\n",
    "# Crear una figura y un eje para la gráfica\n",
    "fig, ax = plt.subplots()\n",
    "\n",
    "# Graficar la distribución del portafolio con una línea amarilla e incluir una etiqueta formateada\n",
    "ax.plot(x_axis, y_axis, linewidth=2, color='y', \n",
    "        label='Portafolio~N(\\\\${:,.2f} ; \\\\${:,.2f})'.format(exp_portafolio, sigma))\n",
    "\n",
    "# Formatear las etiquetas del eje x para mostrar valores en millones\n",
    "ax.xaxis.set_major_formatter(lambda x, pos: str(x / 1_000_000))  # Disminuye en un millón el tamaño de los valores en x\n",
    "\n",
    "# Resaltar el área de la distribución donde los valores del eje x son menores o iguales a VaR\n",
    "ax.fill_between(x_axis[x_axis <= VaR], y_axis[x_axis <= VaR], color='#FF8000')\n",
    "\n",
    "# Definir el tamaño de la figura: 10 pulgadas de ancho por 5 de alto\n",
    "fig.set_size_inches(10, 5)\n",
    "\n",
    "# Establecer el título del gráfico con color rojo y un tamaño de fuente mayor\n",
    "plt.title('Distribución del Portafolio', fontdict={'fontsize':18,'fontweight':700})\n",
    "\n",
    "# Etiquetar el eje x y especificar que los valores están en millones de COP\n",
    "plt.xlabel('Retornos (en millones COP)', fontdict={'fontsize':14,'fontweight':700})\n",
    "\n",
    "# Etiquetar el eje y como frecuencia\n",
    "plt.ylabel('Frecuencia', fontdict={'fontsize':14,'fontweight':700})\n",
    "\n",
    "# Asegurar que el eje y comience en cero\n",
    "plt.ylim(bottom=0)\n",
    "\n",
    "# Mostrar la leyenda en la esquina superior derecha\n",
    "plt.legend(loc='upper right')\n",
    "\n",
    "sns.despine()\n",
    "plt.tight_layout()\n",
    "# Mostrar la gráfica\n",
    "plt.show()\n",
    "\n"
   ]
  },
  {
   "cell_type": "code",
   "execution_count": null,
   "id": "e6275ad6-2f62-4528-8dcf-1f49e9270636",
   "metadata": {},
   "outputs": [],
   "source": []
  }
 ],
 "metadata": {
  "kernelspec": {
   "display_name": "Python 3 (ipykernel)",
   "language": "python",
   "name": "python3"
  },
  "language_info": {
   "codemirror_mode": {
    "name": "ipython",
    "version": 3
   },
   "file_extension": ".py",
   "mimetype": "text/x-python",
   "name": "python",
   "nbconvert_exporter": "python",
   "pygments_lexer": "ipython3",
   "version": "3.12.3"
  }
 },
 "nbformat": 4,
 "nbformat_minor": 5
}
