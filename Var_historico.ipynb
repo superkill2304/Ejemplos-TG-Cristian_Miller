{
 "cells": [
  {
   "cell_type": "markdown",
   "id": "439ac1f0-7f6d-46ec-b4bc-0f55dc941a15",
   "metadata": {},
   "source": [
    "<h1 style=\"color:red;text-align:center;font-size:50px\">Ejemplo VaR histórico</h1>"
   ]
  },
  {
   "cell_type": "markdown",
   "id": "3a2af40c-2f4c-42f3-97f8-d55835b51eed",
   "metadata": {},
   "source": [
    "# 📖 **Introducción** \n",
    "<p>El Valor en Riesgo (VaR) es una métrica financiera utilizada para estimar la posible pérdida en el valor de una inversión o cartera durante un período de tiempo determinado, con un nivel de confianza específico. Proporciona una medida probabilística de la peor pérdida esperada bajo condiciones normales de mercado.</p>"
   ]
  },
  {
   "cell_type": "markdown",
   "id": "c0a3e1b5-a352-41ca-b834-e4d98e5ecf5e",
   "metadata": {},
   "source": [
    "# 🎯 **Objetivo**  \n",
    "\n",
    "El objetivo de este análisis es determinar el **Valor en Riesgo (VaR) al 95% de confianza** de un portafolio con una inversión de **$300,000,000 COP**, distribuida de la siguiente manera:  \n",
    "\n",
    "📌 **55% en acciones de Ecopetrol**.  \n",
    "📌 **45% en acciones de Celsia**.  \n",
    "\n",
    "Para ello, utilizaremos el método **histórico**, el cual se basa en la distribución de pérdidas y ganancias observadas en el pasado, sin asumir una distribución específica de los rendimientos.  \n",
    "\n",
    "✅ Con este enfoque, estimaremos la **máxima pérdida esperada en condiciones normales de mercado**.  \n"
   ]
  },
  {
   "cell_type": "markdown",
   "id": "8439b246-04bf-46f1-9106-8d4008f86531",
   "metadata": {},
   "source": [
    "# 📊 **Metodología**\n",
    "\n",
    "Para calcular el **Valor en Riesgo (VaR) histórico** del portafolio, seguimos los siguientes pasos:\n",
    "\n",
    "### 1️⃣ **Obtención de datos**  \n",
    "📥 Descargamos los precios históricos de cierre reales de las acciones de **Ecopetrol** y **Celsia** desde *Yahoo Finance*.\n",
    "\n",
    "### 2️⃣ **Cálculo de retornos diarios**  \n",
    "📈 Calculamos los rendimientos diarios de cada acción utilizando la variación porcentual entre precios consecutivos.\n",
    "\n",
    "### 3️⃣ **Construcción del portafolio**  \n",
    "⚖️ Asignamos pesos del **55% para Ecopetrol** y **45% para Celsia**, reflejando la distribución de inversión en el portafolio.\n",
    "\n",
    "### 4️⃣ **Estimación de ganancias y pérdidas**  \n",
    "📊 Calculamos la **variación diaria** en el valor del portafolio combinando los retornos de ambas acciones según sus pesos.\n",
    "\n",
    "### 5️⃣ **Cálculo del VaR histórico**  \n",
    "📉 Determinamos el **percentil 5%** de la distribución de ganancias y pérdidas, lo que nos permite conocer la **pérdida máxima esperada con un 95% de confianza**.\n",
    "\n",
    "### 6️⃣ **Visualización de resultados**  \n",
    "📌 Graficamos un **histograma de ganancias y pérdidas** y resaltamos la zona donde el VaR es superado, para una mejor interpretación del riesgo.\n",
    "\n",
    "---\n"
   ]
  },
  {
   "cell_type": "markdown",
   "id": "4ca7c815-80f4-4be7-ba7c-22203af8bf1f",
   "metadata": {},
   "source": [
    "\n",
    "# 🚀 Ejecución\n"
   ]
  },
  {
   "cell_type": "markdown",
   "id": "e26ef83c-9235-4a7a-a5e5-e1631650c4b5",
   "metadata": {},
   "source": [
    "## 1️⃣ **Obtención de datos** "
   ]
  },
  {
   "cell_type": "code",
   "execution_count": 1,
   "id": "884eba76-fb2a-442f-9ccf-81002c49438b",
   "metadata": {},
   "outputs": [],
   "source": [
    "import yfinance as yf "
   ]
  },
  {
   "cell_type": "markdown",
   "id": "4134fc32-4dd5-43f9-b46c-bab9f4007957",
   "metadata": {},
   "source": [
    "**yfinance**: Es una API que permite obtener datos financieros reales desde *Yahoo Finance*, incluyendo precios de acciones, volúmenes y otros indicadores.  "
   ]
  },
  {
   "cell_type": "code",
   "execution_count": 2,
   "id": "0e80a381-5fed-4b50-9e3b-20260174b444",
   "metadata": {},
   "outputs": [],
   "source": [
    "\"\"\"\n",
    "* Se crean objetos Ticker para las acciones de Ecopetrol y Celsia en la Bolsa de Valores de Colombia.\n",
    "* Se descargan los datos históricos de precios para un año, concretamente entre el 11 de marzo de 2024 y el 11 de marzo de 2025.\n",
    "\"\"\"\n",
    "dat_ec = yf.Ticker(\"ECOPETROL.CL\") \n",
    "dat_cl = yf.Ticker(\"CELSIA.CL\") \n",
    "\n",
    "datos_ecopetrol = dat_ec.history(start=\"2024-03-11\",end=\"2025-03-12\")\n",
    "datos_celsia = dat_cl.history(start=\"2024-03-11\",end=\"2025-03-12\")"
   ]
  },
  {
   "cell_type": "code",
   "execution_count": 3,
   "id": "b86dd06d-562a-4068-97ee-ec92cb017eca",
   "metadata": {},
   "outputs": [
    {
     "data": {
      "text/html": [
       "<div>\n",
       "<style scoped>\n",
       "    .dataframe tbody tr th:only-of-type {\n",
       "        vertical-align: middle;\n",
       "    }\n",
       "\n",
       "    .dataframe tbody tr th {\n",
       "        vertical-align: top;\n",
       "    }\n",
       "\n",
       "    .dataframe thead th {\n",
       "        text-align: right;\n",
       "    }\n",
       "</style>\n",
       "<table border=\"1\" class=\"dataframe\">\n",
       "  <thead>\n",
       "    <tr style=\"text-align: right;\">\n",
       "      <th></th>\n",
       "      <th>Open</th>\n",
       "      <th>High</th>\n",
       "      <th>Low</th>\n",
       "      <th>Close</th>\n",
       "      <th>Volume</th>\n",
       "      <th>Dividends</th>\n",
       "      <th>Stock Splits</th>\n",
       "    </tr>\n",
       "    <tr>\n",
       "      <th>Date</th>\n",
       "      <th></th>\n",
       "      <th></th>\n",
       "      <th></th>\n",
       "      <th></th>\n",
       "      <th></th>\n",
       "      <th></th>\n",
       "      <th></th>\n",
       "    </tr>\n",
       "  </thead>\n",
       "  <tbody>\n",
       "    <tr>\n",
       "      <th>2024-03-11 00:00:00-04:00</th>\n",
       "      <td>1917.201751</td>\n",
       "      <td>1940.582261</td>\n",
       "      <td>1889.145140</td>\n",
       "      <td>1926.553955</td>\n",
       "      <td>7513846</td>\n",
       "      <td>0.0</td>\n",
       "      <td>0.0</td>\n",
       "    </tr>\n",
       "    <tr>\n",
       "      <th>2024-03-12 00:00:00-04:00</th>\n",
       "      <td>1926.553849</td>\n",
       "      <td>1954.610458</td>\n",
       "      <td>1917.201645</td>\n",
       "      <td>1940.582153</td>\n",
       "      <td>4786471</td>\n",
       "      <td>0.0</td>\n",
       "      <td>0.0</td>\n",
       "    </tr>\n",
       "    <tr>\n",
       "      <th>2024-03-13 00:00:00-04:00</th>\n",
       "      <td>1963.962584</td>\n",
       "      <td>1977.990888</td>\n",
       "      <td>1945.258179</td>\n",
       "      <td>1945.258179</td>\n",
       "      <td>3251229</td>\n",
       "      <td>0.0</td>\n",
       "      <td>0.0</td>\n",
       "    </tr>\n",
       "    <tr>\n",
       "      <th>2024-03-14 00:00:00-04:00</th>\n",
       "      <td>1949.934523</td>\n",
       "      <td>1982.667236</td>\n",
       "      <td>1935.906217</td>\n",
       "      <td>1982.667236</td>\n",
       "      <td>7189970</td>\n",
       "      <td>0.0</td>\n",
       "      <td>0.0</td>\n",
       "    </tr>\n",
       "    <tr>\n",
       "      <th>2024-03-15 00:00:00-04:00</th>\n",
       "      <td>1982.667085</td>\n",
       "      <td>2066.836914</td>\n",
       "      <td>1968.638780</td>\n",
       "      <td>2066.836914</td>\n",
       "      <td>46520253</td>\n",
       "      <td>0.0</td>\n",
       "      <td>0.0</td>\n",
       "    </tr>\n",
       "    <tr>\n",
       "      <th>...</th>\n",
       "      <td>...</td>\n",
       "      <td>...</td>\n",
       "      <td>...</td>\n",
       "      <td>...</td>\n",
       "      <td>...</td>\n",
       "      <td>...</td>\n",
       "      <td>...</td>\n",
       "    </tr>\n",
       "    <tr>\n",
       "      <th>2025-03-05 00:00:00-05:00</th>\n",
       "      <td>1885.000000</td>\n",
       "      <td>1945.000000</td>\n",
       "      <td>1885.000000</td>\n",
       "      <td>1930.000000</td>\n",
       "      <td>8718919</td>\n",
       "      <td>0.0</td>\n",
       "      <td>0.0</td>\n",
       "    </tr>\n",
       "    <tr>\n",
       "      <th>2025-03-06 00:00:00-05:00</th>\n",
       "      <td>1930.000000</td>\n",
       "      <td>2015.000000</td>\n",
       "      <td>1925.000000</td>\n",
       "      <td>2000.000000</td>\n",
       "      <td>9321401</td>\n",
       "      <td>0.0</td>\n",
       "      <td>0.0</td>\n",
       "    </tr>\n",
       "    <tr>\n",
       "      <th>2025-03-07 00:00:00-05:00</th>\n",
       "      <td>2000.000000</td>\n",
       "      <td>2060.000000</td>\n",
       "      <td>2000.000000</td>\n",
       "      <td>2060.000000</td>\n",
       "      <td>7431758</td>\n",
       "      <td>0.0</td>\n",
       "      <td>0.0</td>\n",
       "    </tr>\n",
       "    <tr>\n",
       "      <th>2025-03-10 00:00:00-04:00</th>\n",
       "      <td>2060.000000</td>\n",
       "      <td>2060.000000</td>\n",
       "      <td>2015.000000</td>\n",
       "      <td>2025.000000</td>\n",
       "      <td>6324735</td>\n",
       "      <td>0.0</td>\n",
       "      <td>0.0</td>\n",
       "    </tr>\n",
       "    <tr>\n",
       "      <th>2025-03-11 00:00:00-04:00</th>\n",
       "      <td>2025.000000</td>\n",
       "      <td>2050.000000</td>\n",
       "      <td>1970.000000</td>\n",
       "      <td>1980.000000</td>\n",
       "      <td>15499528</td>\n",
       "      <td>0.0</td>\n",
       "      <td>0.0</td>\n",
       "    </tr>\n",
       "  </tbody>\n",
       "</table>\n",
       "<p>251 rows × 7 columns</p>\n",
       "</div>"
      ],
      "text/plain": [
       "                                  Open         High          Low        Close  \\\n",
       "Date                                                                            \n",
       "2024-03-11 00:00:00-04:00  1917.201751  1940.582261  1889.145140  1926.553955   \n",
       "2024-03-12 00:00:00-04:00  1926.553849  1954.610458  1917.201645  1940.582153   \n",
       "2024-03-13 00:00:00-04:00  1963.962584  1977.990888  1945.258179  1945.258179   \n",
       "2024-03-14 00:00:00-04:00  1949.934523  1982.667236  1935.906217  1982.667236   \n",
       "2024-03-15 00:00:00-04:00  1982.667085  2066.836914  1968.638780  2066.836914   \n",
       "...                                ...          ...          ...          ...   \n",
       "2025-03-05 00:00:00-05:00  1885.000000  1945.000000  1885.000000  1930.000000   \n",
       "2025-03-06 00:00:00-05:00  1930.000000  2015.000000  1925.000000  2000.000000   \n",
       "2025-03-07 00:00:00-05:00  2000.000000  2060.000000  2000.000000  2060.000000   \n",
       "2025-03-10 00:00:00-04:00  2060.000000  2060.000000  2015.000000  2025.000000   \n",
       "2025-03-11 00:00:00-04:00  2025.000000  2050.000000  1970.000000  1980.000000   \n",
       "\n",
       "                             Volume  Dividends  Stock Splits  \n",
       "Date                                                          \n",
       "2024-03-11 00:00:00-04:00   7513846        0.0           0.0  \n",
       "2024-03-12 00:00:00-04:00   4786471        0.0           0.0  \n",
       "2024-03-13 00:00:00-04:00   3251229        0.0           0.0  \n",
       "2024-03-14 00:00:00-04:00   7189970        0.0           0.0  \n",
       "2024-03-15 00:00:00-04:00  46520253        0.0           0.0  \n",
       "...                             ...        ...           ...  \n",
       "2025-03-05 00:00:00-05:00   8718919        0.0           0.0  \n",
       "2025-03-06 00:00:00-05:00   9321401        0.0           0.0  \n",
       "2025-03-07 00:00:00-05:00   7431758        0.0           0.0  \n",
       "2025-03-10 00:00:00-04:00   6324735        0.0           0.0  \n",
       "2025-03-11 00:00:00-04:00  15499528        0.0           0.0  \n",
       "\n",
       "[251 rows x 7 columns]"
      ]
     },
     "execution_count": 3,
     "metadata": {},
     "output_type": "execute_result"
    }
   ],
   "source": [
    "datos_ecopetrol"
   ]
  },
  {
   "cell_type": "markdown",
   "id": "541f81d6-81f9-4fd9-8f97-1436dc135c9e",
   "metadata": {},
   "source": [
    "\n",
    "### ☝️ **Descripción de la Tabla**  \n",
    "\n",
    "Esta tabla presenta los 5 valores más antiguos y los 5 más recientes dentro del período seleccionado para **Ecopetrol**.  \n",
    "\n",
    "Además, en la parte inferior se indica que el conjunto de datos contiene **251 registros** distribuidos en **7 columnas**, correspondientes a la información histórica de Ecopetrol.  \n",
    "\n",
    "---\n",
    "\n"
   ]
  },
  {
   "cell_type": "code",
   "execution_count": 4,
   "id": "1c39c4c2-e959-42ec-a784-6e2f74b18116",
   "metadata": {},
   "outputs": [
    {
     "data": {
      "text/html": [
       "<div>\n",
       "<style scoped>\n",
       "    .dataframe tbody tr th:only-of-type {\n",
       "        vertical-align: middle;\n",
       "    }\n",
       "\n",
       "    .dataframe tbody tr th {\n",
       "        vertical-align: top;\n",
       "    }\n",
       "\n",
       "    .dataframe thead th {\n",
       "        text-align: right;\n",
       "    }\n",
       "</style>\n",
       "<table border=\"1\" class=\"dataframe\">\n",
       "  <thead>\n",
       "    <tr style=\"text-align: right;\">\n",
       "      <th></th>\n",
       "      <th>Open</th>\n",
       "      <th>High</th>\n",
       "      <th>Low</th>\n",
       "      <th>Close</th>\n",
       "      <th>Volume</th>\n",
       "      <th>Dividends</th>\n",
       "      <th>Stock Splits</th>\n",
       "    </tr>\n",
       "    <tr>\n",
       "      <th>Date</th>\n",
       "      <th></th>\n",
       "      <th></th>\n",
       "      <th></th>\n",
       "      <th></th>\n",
       "      <th></th>\n",
       "      <th></th>\n",
       "      <th></th>\n",
       "    </tr>\n",
       "  </thead>\n",
       "  <tbody>\n",
       "    <tr>\n",
       "      <th>2024-03-11 00:00:00-04:00</th>\n",
       "      <td>3609.913917</td>\n",
       "      <td>3619.158255</td>\n",
       "      <td>3582.180904</td>\n",
       "      <td>3605.291748</td>\n",
       "      <td>153741</td>\n",
       "      <td>0.0</td>\n",
       "      <td>0.0</td>\n",
       "    </tr>\n",
       "    <tr>\n",
       "      <th>2024-03-12 00:00:00-04:00</th>\n",
       "      <td>3619.158255</td>\n",
       "      <td>3642.269099</td>\n",
       "      <td>3572.936566</td>\n",
       "      <td>3605.291748</td>\n",
       "      <td>191639</td>\n",
       "      <td>0.0</td>\n",
       "      <td>0.0</td>\n",
       "    </tr>\n",
       "    <tr>\n",
       "      <th>2024-03-13 00:00:00-04:00</th>\n",
       "      <td>3596.047316</td>\n",
       "      <td>3596.047316</td>\n",
       "      <td>3586.802979</td>\n",
       "      <td>3586.802979</td>\n",
       "      <td>122083</td>\n",
       "      <td>0.0</td>\n",
       "      <td>0.0</td>\n",
       "    </tr>\n",
       "    <tr>\n",
       "      <th>2024-03-14 00:00:00-04:00</th>\n",
       "      <td>3586.803134</td>\n",
       "      <td>3586.803134</td>\n",
       "      <td>3545.203613</td>\n",
       "      <td>3545.203613</td>\n",
       "      <td>165578</td>\n",
       "      <td>0.0</td>\n",
       "      <td>0.0</td>\n",
       "    </tr>\n",
       "    <tr>\n",
       "      <th>2024-03-15 00:00:00-04:00</th>\n",
       "      <td>3549.825536</td>\n",
       "      <td>3577.558548</td>\n",
       "      <td>3235.518066</td>\n",
       "      <td>3235.518066</td>\n",
       "      <td>3558941</td>\n",
       "      <td>0.0</td>\n",
       "      <td>0.0</td>\n",
       "    </tr>\n",
       "    <tr>\n",
       "      <th>...</th>\n",
       "      <td>...</td>\n",
       "      <td>...</td>\n",
       "      <td>...</td>\n",
       "      <td>...</td>\n",
       "      <td>...</td>\n",
       "      <td>...</td>\n",
       "      <td>...</td>\n",
       "    </tr>\n",
       "    <tr>\n",
       "      <th>2025-03-05 00:00:00-05:00</th>\n",
       "      <td>3725.000000</td>\n",
       "      <td>3740.000000</td>\n",
       "      <td>3700.000000</td>\n",
       "      <td>3730.000000</td>\n",
       "      <td>461001</td>\n",
       "      <td>0.0</td>\n",
       "      <td>0.0</td>\n",
       "    </tr>\n",
       "    <tr>\n",
       "      <th>2025-03-06 00:00:00-05:00</th>\n",
       "      <td>3730.000000</td>\n",
       "      <td>3740.000000</td>\n",
       "      <td>3710.000000</td>\n",
       "      <td>3730.000000</td>\n",
       "      <td>405306</td>\n",
       "      <td>0.0</td>\n",
       "      <td>0.0</td>\n",
       "    </tr>\n",
       "    <tr>\n",
       "      <th>2025-03-07 00:00:00-05:00</th>\n",
       "      <td>3730.000000</td>\n",
       "      <td>3765.000000</td>\n",
       "      <td>3725.000000</td>\n",
       "      <td>3760.000000</td>\n",
       "      <td>643821</td>\n",
       "      <td>0.0</td>\n",
       "      <td>0.0</td>\n",
       "    </tr>\n",
       "    <tr>\n",
       "      <th>2025-03-10 00:00:00-04:00</th>\n",
       "      <td>3760.000000</td>\n",
       "      <td>3770.000000</td>\n",
       "      <td>3730.000000</td>\n",
       "      <td>3735.000000</td>\n",
       "      <td>254229</td>\n",
       "      <td>0.0</td>\n",
       "      <td>0.0</td>\n",
       "    </tr>\n",
       "    <tr>\n",
       "      <th>2025-03-11 00:00:00-04:00</th>\n",
       "      <td>3735.000000</td>\n",
       "      <td>3740.000000</td>\n",
       "      <td>3700.000000</td>\n",
       "      <td>3700.000000</td>\n",
       "      <td>352202</td>\n",
       "      <td>0.0</td>\n",
       "      <td>0.0</td>\n",
       "    </tr>\n",
       "  </tbody>\n",
       "</table>\n",
       "<p>251 rows × 7 columns</p>\n",
       "</div>"
      ],
      "text/plain": [
       "                                  Open         High          Low        Close  \\\n",
       "Date                                                                            \n",
       "2024-03-11 00:00:00-04:00  3609.913917  3619.158255  3582.180904  3605.291748   \n",
       "2024-03-12 00:00:00-04:00  3619.158255  3642.269099  3572.936566  3605.291748   \n",
       "2024-03-13 00:00:00-04:00  3596.047316  3596.047316  3586.802979  3586.802979   \n",
       "2024-03-14 00:00:00-04:00  3586.803134  3586.803134  3545.203613  3545.203613   \n",
       "2024-03-15 00:00:00-04:00  3549.825536  3577.558548  3235.518066  3235.518066   \n",
       "...                                ...          ...          ...          ...   \n",
       "2025-03-05 00:00:00-05:00  3725.000000  3740.000000  3700.000000  3730.000000   \n",
       "2025-03-06 00:00:00-05:00  3730.000000  3740.000000  3710.000000  3730.000000   \n",
       "2025-03-07 00:00:00-05:00  3730.000000  3765.000000  3725.000000  3760.000000   \n",
       "2025-03-10 00:00:00-04:00  3760.000000  3770.000000  3730.000000  3735.000000   \n",
       "2025-03-11 00:00:00-04:00  3735.000000  3740.000000  3700.000000  3700.000000   \n",
       "\n",
       "                            Volume  Dividends  Stock Splits  \n",
       "Date                                                         \n",
       "2024-03-11 00:00:00-04:00   153741        0.0           0.0  \n",
       "2024-03-12 00:00:00-04:00   191639        0.0           0.0  \n",
       "2024-03-13 00:00:00-04:00   122083        0.0           0.0  \n",
       "2024-03-14 00:00:00-04:00   165578        0.0           0.0  \n",
       "2024-03-15 00:00:00-04:00  3558941        0.0           0.0  \n",
       "...                            ...        ...           ...  \n",
       "2025-03-05 00:00:00-05:00   461001        0.0           0.0  \n",
       "2025-03-06 00:00:00-05:00   405306        0.0           0.0  \n",
       "2025-03-07 00:00:00-05:00   643821        0.0           0.0  \n",
       "2025-03-10 00:00:00-04:00   254229        0.0           0.0  \n",
       "2025-03-11 00:00:00-04:00   352202        0.0           0.0  \n",
       "\n",
       "[251 rows x 7 columns]"
      ]
     },
     "execution_count": 4,
     "metadata": {},
     "output_type": "execute_result"
    }
   ],
   "source": [
    "datos_celsia"
   ]
  },
  {
   "cell_type": "markdown",
   "id": "856134ee-1f95-4289-a370-0dc8346c3bee",
   "metadata": {},
   "source": [
    "\n",
    "#### ☝️ **Descripción de la Tabla**  \n",
    "\n",
    "Esta tabla presenta los 5 valores más antiguos y los 5 más recientes dentro del período seleccionado para **Celsia**.  \n",
    "\n",
    "Además, en la parte inferior se indica que el conjunto de datos contiene **251 registros** distribuidos en **7 columnas**, correspondientes a la información histórica de Ecopetrol.  \n",
    "\n",
    "---"
   ]
  },
  {
   "cell_type": "code",
   "execution_count": 5,
   "id": "9442c05b-51fc-45fa-851d-778d2d6f66f5",
   "metadata": {},
   "outputs": [],
   "source": [
    "\"\"\"\n",
    "📌 **Selección de Datos**  \n",
    "Se extraen únicamente los datos del precio de cierre de las acciones de Celsia y Ecopetrol\n",
    "ya que es la información necesaria para calcular el VaR del portafolio.  \n",
    "\"\"\"\n",
    "\n",
    "accion_ecopetrol = datos_ecopetrol[['Close']].copy() #metodo copy() para evitar generar cambios en el dataframe original\n",
    "accion_celsia = datos_celsia[['Close']].copy()"
   ]
  },
  {
   "cell_type": "markdown",
   "id": "397b2613-c062-45e8-a5a9-68f8fa99a463",
   "metadata": {},
   "source": [
    "## 2️⃣ **Cálculo de retornos diarios**  "
   ]
  },
  {
   "cell_type": "markdown",
   "id": "5f4dd882-d919-4944-95f7-482c51a5cf4c",
   "metadata": {},
   "source": [
    "El **retorno diario** mide la variación porcentual en el precio de cierre de una acción respecto al día anterior. Se calcula utilizando la siguiente fórmula:  \n",
    "\n",
    "$$\n",
    "R_t = \\frac{P_t - P_{t-1}}{P_{t-1}}\n",
    "$$\n",
    "\n",
    "Donde:  \n",
    "- $R_t$: es el retorno del día \\( t \\).  \n",
    "- $P_t$: es el precio de cierre en el día \\( t \\).  \n",
    "- $P_{t-1}$: es el precio de cierre en el día \\( t-1 \\).  \n"
   ]
  },
  {
   "cell_type": "code",
   "execution_count": 6,
   "id": "da80176d-3e79-4d8a-859e-1e3e7a71b7a9",
   "metadata": {},
   "outputs": [],
   "source": [
    "\"\"\"  \n",
    "Las siguientes líneas de código calculan el retorno diario de las acciones de Ecopetrol y Celsia,  \n",
    "usando la variación porcentual entre el precio de cierre actual y el del día anterior.  \n",
    "\"\"\"  \n",
    "\n",
    "accion_ecopetrol['Retorno_diario'] = (accion_ecopetrol['Close'] - accion_ecopetrol['Close'].shift(1))/accion_ecopetrol['Close'].shift(1)\n",
    "accion_celsia['Retorno_diario'] = (accion_celsia['Close'] - accion_celsia['Close'].shift(1))/accion_celsia['Close'].shift(1)"
   ]
  },
  {
   "cell_type": "markdown",
   "id": "81ba5b36-33b8-4b45-b020-9213e2185e2b",
   "metadata": {},
   "source": [
    "## 3️⃣ **Construcción del portafolio** "
   ]
  },
  {
   "cell_type": "code",
   "execution_count": 7,
   "id": "f465c857-03e5-400b-ac48-395410ca3d53",
   "metadata": {},
   "outputs": [],
   "source": [
    "\"\"\"  \n",
    "Se combinan los datos de Ecopetrol y Celsia en un DataFrame y se reemplazan los valores NaN con 0 para evitar errores.  \n",
    "Estos valores NaN aparecen porque, al ser el 11 de marzo nuestro punto inicial, no es posible calcular la variación  \n",
    "porcentual respecto al día anterior.  \n",
    "\"\"\"  \n",
    "\n",
    "portafolio = accion_ecopetrol.join(accion_celsia, lsuffix=\"_Ecopetrol\",rsuffix=\"_Celsia\")\n",
    "portafolio.fillna(0,inplace=True)\n"
   ]
  },
  {
   "cell_type": "code",
   "execution_count": 8,
   "id": "c13fd84b-2810-46ef-aa0d-555f53d877a5",
   "metadata": {},
   "outputs": [
    {
     "data": {
      "text/html": [
       "<div>\n",
       "<style scoped>\n",
       "    .dataframe tbody tr th:only-of-type {\n",
       "        vertical-align: middle;\n",
       "    }\n",
       "\n",
       "    .dataframe tbody tr th {\n",
       "        vertical-align: top;\n",
       "    }\n",
       "\n",
       "    .dataframe thead th {\n",
       "        text-align: right;\n",
       "    }\n",
       "</style>\n",
       "<table border=\"1\" class=\"dataframe\">\n",
       "  <thead>\n",
       "    <tr style=\"text-align: right;\">\n",
       "      <th></th>\n",
       "      <th>Close_Ecopetrol</th>\n",
       "      <th>Retorno_diario_Ecopetrol</th>\n",
       "      <th>Close_Celsia</th>\n",
       "      <th>Retorno_diario_Celsia</th>\n",
       "    </tr>\n",
       "    <tr>\n",
       "      <th>Date</th>\n",
       "      <th></th>\n",
       "      <th></th>\n",
       "      <th></th>\n",
       "      <th></th>\n",
       "    </tr>\n",
       "  </thead>\n",
       "  <tbody>\n",
       "    <tr>\n",
       "      <th>2024-03-11 00:00:00-04:00</th>\n",
       "      <td>1926.553955</td>\n",
       "      <td>0.000000</td>\n",
       "      <td>3605.291748</td>\n",
       "      <td>0.000000</td>\n",
       "    </tr>\n",
       "    <tr>\n",
       "      <th>2024-03-12 00:00:00-04:00</th>\n",
       "      <td>1940.582153</td>\n",
       "      <td>0.007281</td>\n",
       "      <td>3605.291748</td>\n",
       "      <td>0.000000</td>\n",
       "    </tr>\n",
       "    <tr>\n",
       "      <th>2024-03-13 00:00:00-04:00</th>\n",
       "      <td>1945.258179</td>\n",
       "      <td>0.002410</td>\n",
       "      <td>3586.802979</td>\n",
       "      <td>-0.005128</td>\n",
       "    </tr>\n",
       "    <tr>\n",
       "      <th>2024-03-14 00:00:00-04:00</th>\n",
       "      <td>1982.667236</td>\n",
       "      <td>0.019231</td>\n",
       "      <td>3545.203613</td>\n",
       "      <td>-0.011598</td>\n",
       "    </tr>\n",
       "    <tr>\n",
       "      <th>2024-03-15 00:00:00-04:00</th>\n",
       "      <td>2066.836914</td>\n",
       "      <td>0.042453</td>\n",
       "      <td>3235.518066</td>\n",
       "      <td>-0.087353</td>\n",
       "    </tr>\n",
       "    <tr>\n",
       "      <th>...</th>\n",
       "      <td>...</td>\n",
       "      <td>...</td>\n",
       "      <td>...</td>\n",
       "      <td>...</td>\n",
       "    </tr>\n",
       "    <tr>\n",
       "      <th>2025-03-05 00:00:00-05:00</th>\n",
       "      <td>1930.000000</td>\n",
       "      <td>0.023873</td>\n",
       "      <td>3730.000000</td>\n",
       "      <td>0.001342</td>\n",
       "    </tr>\n",
       "    <tr>\n",
       "      <th>2025-03-06 00:00:00-05:00</th>\n",
       "      <td>2000.000000</td>\n",
       "      <td>0.036269</td>\n",
       "      <td>3730.000000</td>\n",
       "      <td>0.000000</td>\n",
       "    </tr>\n",
       "    <tr>\n",
       "      <th>2025-03-07 00:00:00-05:00</th>\n",
       "      <td>2060.000000</td>\n",
       "      <td>0.030000</td>\n",
       "      <td>3760.000000</td>\n",
       "      <td>0.008043</td>\n",
       "    </tr>\n",
       "    <tr>\n",
       "      <th>2025-03-10 00:00:00-04:00</th>\n",
       "      <td>2025.000000</td>\n",
       "      <td>-0.016990</td>\n",
       "      <td>3735.000000</td>\n",
       "      <td>-0.006649</td>\n",
       "    </tr>\n",
       "    <tr>\n",
       "      <th>2025-03-11 00:00:00-04:00</th>\n",
       "      <td>1980.000000</td>\n",
       "      <td>-0.022222</td>\n",
       "      <td>3700.000000</td>\n",
       "      <td>-0.009371</td>\n",
       "    </tr>\n",
       "  </tbody>\n",
       "</table>\n",
       "<p>251 rows × 4 columns</p>\n",
       "</div>"
      ],
      "text/plain": [
       "                           Close_Ecopetrol  Retorno_diario_Ecopetrol  \\\n",
       "Date                                                                   \n",
       "2024-03-11 00:00:00-04:00      1926.553955                  0.000000   \n",
       "2024-03-12 00:00:00-04:00      1940.582153                  0.007281   \n",
       "2024-03-13 00:00:00-04:00      1945.258179                  0.002410   \n",
       "2024-03-14 00:00:00-04:00      1982.667236                  0.019231   \n",
       "2024-03-15 00:00:00-04:00      2066.836914                  0.042453   \n",
       "...                                    ...                       ...   \n",
       "2025-03-05 00:00:00-05:00      1930.000000                  0.023873   \n",
       "2025-03-06 00:00:00-05:00      2000.000000                  0.036269   \n",
       "2025-03-07 00:00:00-05:00      2060.000000                  0.030000   \n",
       "2025-03-10 00:00:00-04:00      2025.000000                 -0.016990   \n",
       "2025-03-11 00:00:00-04:00      1980.000000                 -0.022222   \n",
       "\n",
       "                           Close_Celsia  Retorno_diario_Celsia  \n",
       "Date                                                            \n",
       "2024-03-11 00:00:00-04:00   3605.291748               0.000000  \n",
       "2024-03-12 00:00:00-04:00   3605.291748               0.000000  \n",
       "2024-03-13 00:00:00-04:00   3586.802979              -0.005128  \n",
       "2024-03-14 00:00:00-04:00   3545.203613              -0.011598  \n",
       "2024-03-15 00:00:00-04:00   3235.518066              -0.087353  \n",
       "...                                 ...                    ...  \n",
       "2025-03-05 00:00:00-05:00   3730.000000               0.001342  \n",
       "2025-03-06 00:00:00-05:00   3730.000000               0.000000  \n",
       "2025-03-07 00:00:00-05:00   3760.000000               0.008043  \n",
       "2025-03-10 00:00:00-04:00   3735.000000              -0.006649  \n",
       "2025-03-11 00:00:00-04:00   3700.000000              -0.009371  \n",
       "\n",
       "[251 rows x 4 columns]"
      ]
     },
     "execution_count": 8,
     "metadata": {},
     "output_type": "execute_result"
    }
   ],
   "source": [
    "portafolio"
   ]
  },
  {
   "cell_type": "markdown",
   "id": "8d8dccc3-9ee1-46f9-8d8d-f3fea1407d14",
   "metadata": {},
   "source": [
    "#### ☝️ **Descripción de la Tabla**  \n",
    "\n",
    "Esta tabla es el **DataFrame** combinado del precio de cierre de las acciones de Celsia y Ecopetro asi como sus **retornos diarios**.  "
   ]
  },
  {
   "cell_type": "markdown",
   "id": "5dada144-799b-42f2-9996-2965215e4c1e",
   "metadata": {},
   "source": [
    "## 4️⃣ **Estimación de ganancias y pérdidas**  \n",
    "Nuestro portafolio está compuesto por un 55% de acciones de Ecopetrol y un 45% de acciones de Celsia, con un valor total de $300.000.000 COP.  \n",
    "\n",
    "Para calcular la ganancia o pérdida, utilizamos la siguiente fórmula:  \n",
    "\n",
    "$$\n",
    "\\text{Retorno} = \\text{valor\\_portafolio} \\times \\left( (\\text{peso}_{Ecopetrol} \\times R_{Ecopetrol}) + (\\text{peso}_{Celsia} \\times R_{Celsia}) \\right)\n",
    "$$\n",
    "\n",
    "A continuación, calculamos la ganancia o pérdida del portafolio considerando la distribución de la inversión en Celsia y Ecopetrol. 👇  \n"
   ]
  },
  {
   "cell_type": "code",
   "execution_count": 9,
   "id": "9231a6e2-e7c5-42e2-8235-2a2b318872c0",
   "metadata": {},
   "outputs": [],
   "source": [
    "valor_portafolio = 300000000 \n",
    "peso_Ecopetrol = 0.55\n",
    "peso_Celsia = 0.45 "
   ]
  },
  {
   "cell_type": "code",
   "execution_count": 10,
   "id": "cf569405-e7f5-48fd-baa4-12da6d6ea6f5",
   "metadata": {},
   "outputs": [],
   "source": [
    "portafolio['ganancia_perdida'] = round(valor_portafolio*(peso_Ecopetrol*portafolio['Retorno_diario_Ecopetrol'] + peso_Celsia*portafolio['Retorno_diario_Celsia']),2)"
   ]
  },
  {
   "cell_type": "code",
   "execution_count": 11,
   "id": "91ac02ed-d6dd-4523-b982-b7fe78a9469d",
   "metadata": {},
   "outputs": [
    {
     "data": {
      "text/plain": [
       "Date\n",
       "2024-03-11 00:00:00-04:00          0.00\n",
       "2024-03-12 00:00:00-04:00    1201447.12\n",
       "2024-03-13 00:00:00-04:00    -294727.32\n",
       "2024-03-14 00:00:00-04:00    1607381.97\n",
       "2024-03-15 00:00:00-04:00   -4788003.53\n",
       "                                ...    \n",
       "2025-03-05 00:00:00-05:00    4120200.10\n",
       "2025-03-06 00:00:00-05:00    5984455.96\n",
       "2025-03-07 00:00:00-05:00    6035790.88\n",
       "2025-03-10 00:00:00-04:00   -3701004.44\n",
       "2025-03-11 00:00:00-04:00   -4931726.91\n",
       "Name: ganancia_perdida, Length: 251, dtype: float64"
      ]
     },
     "execution_count": 11,
     "metadata": {},
     "output_type": "execute_result"
    }
   ],
   "source": [
    "portafolio['ganancia_perdida']"
   ]
  },
  {
   "cell_type": "markdown",
   "id": "0097f578-86fa-4903-ba05-1d80cecdedc5",
   "metadata": {},
   "source": [
    "#### ☝️ **Descripción de la Tabla**  \n",
    "\n",
    "Esta tabla representa el **DataFrame** de las **retornos** del portafolio.\n",
    "\n",
    "---\n"
   ]
  },
  {
   "cell_type": "markdown",
   "id": "9fb81ff4-1ecb-4123-9088-5d1dd19f09c5",
   "metadata": {},
   "source": [
    "## 5️⃣ **Cálculo del VaR histórico**  \n",
    "Si definimos un intervalo de confianza del 95%, el Valor en Riesgo (VaR) se ubicará en el percentil correspondiente a \\( 1 - 0.95 = 0.05 \\), es decir, en el cuantil del 5%."
   ]
  },
  {
   "cell_type": "code",
   "execution_count": 12,
   "id": "fcd48b1b-8144-482d-b9a3-f6e3d3302ec8",
   "metadata": {},
   "outputs": [],
   "source": [
    "VaR = portafolio['ganancia_perdida'].quantile(0.05) #Obtiene el cuantil del 5%\n"
   ]
  },
  {
   "cell_type": "code",
   "execution_count": 13,
   "id": "e1830c59-43a0-49d2-bbc9-c99856fec848",
   "metadata": {},
   "outputs": [
    {
     "name": "stdout",
     "output_type": "stream",
     "text": [
      "VaR = $-5,872,563.83\n"
     ]
    }
   ],
   "source": [
    "print(\"VaR = ${:,.2f}\".format(VaR))"
   ]
  },
  {
   "cell_type": "markdown",
   "id": "e4e1a17a-5bdb-4501-94cf-12a1a4a413e1",
   "metadata": {},
   "source": [
    "#### ☝️ El **VaR** obtenido indica que existe un 5% de probabilidad de que el portafolio sufra pérdidas de al menos **$5,872,568.25 COP**.\n"
   ]
  },
  {
   "cell_type": "markdown",
   "id": "ae852400-6602-49b8-af49-24ba6d5ab862",
   "metadata": {},
   "source": [
    "## 6️⃣ **Visualización de resultados**  \n",
    "\n",
    "A continuación, se grafica el histograma de las ganancias y pérdidas del portafolio durante el período de tiempo analizado.  \n",
    "\n",
    "En la gráfica, el cuantil del 5% se resalta en **naranja**, representando todas las pérdidas de al menos **$5,872,568.25 COP** sufridas por el portafolio.  \n"
   ]
  },
  {
   "cell_type": "code",
   "execution_count": 14,
   "id": "b100dd81-4252-4b69-8b88-09feea126cf1",
   "metadata": {},
   "outputs": [
    {
     "data": {
      "image/png": "[encoded data removed]",
      "text/plain": [
       "<Figure size 640x480 with 1 Axes>"
      ]
     },
     "metadata": {},
     "output_type": "display_data"
    }
   ],
   "source": [
    "\n",
    "histograma = portafolio['ganancia_perdida'].plot(kind='hist',bins= 100,fontsize=12)\n",
    "for rect in histograma.patches:\n",
    "    if rect.get_x() <= VaR:\n",
    "        rect.set_color('#FF8000')\n",
    "        \n",
    "histograma.set_ylabel('Frecuencia',fontsize=18)\n",
    "histograma.set_xlabel('Retorno (en millones COP)', fontsize=18)\n",
    "histograma.set_title('Histograma de Ganancias y Perdidas del Portafolio',fontsize=20,color='red')\n",
    "histograma.xaxis.set_major_formatter(lambda x, pos: str(x/1000000))"
   ]
  },
  {
   "cell_type": "markdown",
   "id": "10f3f6b2-bd9f-4f29-b08f-9c5162442891",
   "metadata": {},
   "source": [
    "## 7️⃣ **Conclusiones**  \n",
    "\n",
    "El histograma generado a partir de los rendimientos diarios del portafolio muestra cierta similitud con una distribución normal. Esta característica es fundamental, ya que diversos métodos para el cálculo del valor en riesgo asumen una distribución normal de las probabilidades.  \n"
   ]
  },
  {
   "cell_type": "code",
   "execution_count": 15,
   "id": "536e0702-dac4-4907-8d36-da235ece2b08",
   "metadata": {},
   "outputs": [
    {
     "data": {
      "text/plain": [
       "count         251.00\n",
       "mean       109522.71\n",
       "std       5255628.33\n",
       "min     -30336322.87\n",
       "25%      -2124591.26\n",
       "50%             0.00\n",
       "75%       1841576.79\n",
       "max      40191561.16\n",
       "Name: ganancia_perdida, dtype: float64"
      ]
     },
     "execution_count": 15,
     "metadata": {},
     "output_type": "execute_result"
    }
   ],
   "source": [
    "portafolio['ganancia_perdida'].describe().round(2)"
   ]
  },
  {
   "cell_type": "markdown",
   "id": "ac6e3214-e8da-4d5c-8a2d-7b91dcb0cc57",
   "metadata": {},
   "source": [
    "## ☝️ \n",
    "\n",
    "El histograma generado a partir de los rendimientos diarios del portafolio muestra cierta similitud con una distribución normal. Esta característica es fundamental, ya que otros métodos para el cálculo del valor en riesgo asumen una distribución normal de las probabilidades.  \n",
    "\n",
    "Además, observamos que el retorno promedio diario del portafolio es de **\\$109,522.69 COP**. Sin embargo, la volatilidad es considerablemente alta, ya que su desviación estándar es de **\\$5,872,568.25 COP**, lo que equivale aproximadamente a **53 veces el retorno diario promedio**.  \n",
    "\n",
    "Asimismo, la pérdida máxima registrada (correspondiente al valor mínimo de los retornos diarios en el **DataFrame**) es de **\\$30,336,322.87 COP**. Este dato es relevante, ya que destaca la importancia de recordar que el *Valor en Riesgo (VaR)* representa la probabilidad de enfrentar pérdidas de al menos el valor calculado del VaR, pero las pérdidas podrían ser mucho mayores.  \n",
    "\n"
   ]
  },
  {
   "cell_type": "code",
   "execution_count": null,
   "id": "2cbd09a5-48c9-479c-8fa8-d476f554016f",
   "metadata": {},
   "outputs": [],
   "source": []
  }
 ],
 "metadata": {
  "kernelspec": {
   "display_name": "Python 3 (ipykernel)",
   "language": "python",
   "name": "python3"
  },
  "language_info": {
   "codemirror_mode": {
    "name": "ipython",
    "version": 3
   },
   "file_extension": ".py",
   "mimetype": "text/x-python",
   "name": "python",
   "nbconvert_exporter": "python",
   "pygments_lexer": "ipython3",
   "version": "3.12.3"
  }
 },
 "nbformat": 4,
 "nbformat_minor": 5
}
