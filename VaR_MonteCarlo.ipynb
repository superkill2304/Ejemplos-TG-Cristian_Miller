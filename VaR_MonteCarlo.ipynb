{
 "cells": [
  {
   "cell_type": "markdown",
   "id": "87fc941c-e8b8-4ebc-b0cd-1701c1de6f2f",
   "metadata": {},
   "source": [
    "<h1 style=\"color:red;text-align:center;font-size:50px\">Ejemplo de VaR Monte Carlo</h1>"
   ]
  },
  {
   "cell_type": "markdown",
   "id": "f17253a6-9152-4df4-a683-f563eae5c054",
   "metadata": {},
   "source": [
    "# 📖 **Introducción** \n",
    "<p>El Valor en Riesgo (VaR) es una métrica financiera utilizada para estimar la posible pérdida en el valor de una inversión o cartera durante un período de tiempo determinado, con un nivel de confianza específico. Proporciona una medida probabilística de la peor pérdida esperada bajo condiciones normales de mercado.</p>"
   ]
  },
  {
   "cell_type": "markdown",
   "id": "365ecf83-f64c-4fd3-a883-4939c78c0ceb",
   "metadata": {},
   "source": [
    "# 🎯 **Objetivo**  \n",
    "\n",
    "El propósito de este análisis es calcular el **Valor en Riesgo (VaR) al 95% de confianza** para un portafolio de inversión de **$300,000,000 COP**, distribuido de la siguiente manera:  \n",
    "\n",
    "📌 **55% en acciones de Ecopetrol**  \n",
    "📌 **45% en acciones de Celsia**  \n",
    "\n",
    "Para ello, aplicaremos el **método paramétrico**, el cual se basa en la estimación de los retornos esperados, la varianza de cada activo y la covarianza entre ellos. Estos parámetros nos permitirán modelar la distribución normal de los retornos del portafolio, asumiendo que dichos retornos siguen una distribución normal.  \n",
    "\n",
    "✅ Con este enfoque, determinaremos la **máxima pérdida esperada bajo condiciones normales de mercado**.  \n"
   ]
  },
  {
   "cell_type": "markdown",
   "id": "9d1665ea-4bfc-4b1a-ab68-6fd557001d1e",
   "metadata": {},
   "source": [
    "# 📊 **Metodología**  \n",
    "\n",
    "Para calcular el **Valor en Riesgo (VaR) histórico** del portafolio, seguimos estos pasos:  \n",
    "\n",
    "### 1️⃣ **Obtención de datos**  \n",
    "📥 Descargamos los precios de cierre históricos de las acciones de **Ecopetrol** y **Celsia** desde *Yahoo Finance*.  \n",
    "\n",
    "### 2️⃣ **Cálculo de retornos diarios**  \n",
    "📈 Calculamos los rendimientos diarios de cada acción a partir de la variación porcentual entre precios consecutivos.  \n",
    "\n",
    "### 3️⃣ **Cálculo de los parámetros de cada acción**  \n",
    "🔢 Determinamos la **varianza** y el **promedio (retorno esperado)** de las acciones de **Ecopetrol** y **Celsia**.  \n",
    "\n",
    "### 4️⃣ **Cálculo de la covarianza**  \n",
    "📊 Calculamos la **covarianza** entre los retornos diarios de **Ecopetrol** y **Celsia**, lo que nos permite medir la relación y dependencia entre ambos activos.  \n",
    "\n",
    "### 5️⃣ **Cálculo de la desviación estándar y retorno del portafolio**  \n",
    "📉 Calculamos la **desviación estándar** del portafolio conformado por **Ecopetrol** y **Celsia**, así como su **retorno esperado**.  \n",
    "\n",
    "### 6️⃣ **Cálculo de Z-Scores aleatorios**  \n",
    "📌 Construimos un vector de **Z-Scores** aleatorio, cada valor en este vector simulara un **escenario** distinto.  \n",
    "\n",
    "### 7️⃣ **Visualización del histograma de escenarios**  \n",
    "📊 Se muestra un **histograma de los escenarios simulados**, resaltando el punto en el que el **VaR es superado**. Esto permite una interpretación más clara del riesgo y ayuda a visualizar el umbral de pérdidas significativas.  \n"
   ]
  },
  {
   "cell_type": "code",
   "execution_count": 1,
   "id": "9c72496b-1288-4430-9a47-2cf3b690e0a7",
   "metadata": {},
   "outputs": [],
   "source": [
    "import yfinance as yf \n",
    "import numpy as np\n",
    "from scipy.stats import norm \n",
    "import matplotlib.pyplot as plt\n",
    "import seaborn as sns "
   ]
  },
  {
   "cell_type": "markdown",
   "id": "d63ab386-455f-40db-bbe4-9eee97f3c5e2",
   "metadata": {},
   "source": [
    "**yfinance**: Es una API que permite obtener datos financieros reales desde Yahoo Finance, incluyendo precios de acciones, volúmenes y otros indicadores.\n",
    "\n",
    "**numpy**: Es una biblioteca de Python que facilita la manipulación y el cálculo eficiente de arreglos numéricos, siendo ampliamente utilizada en operaciones matemáticas y científicas."
   ]
  },
  {
   "cell_type": "code",
   "execution_count": 2,
   "id": "6fb151b0-5552-4d39-afb1-43c599328f8e",
   "metadata": {},
   "outputs": [],
   "source": [
    "\"\"\"\n",
    "* Se crean objetos Ticker para las acciones de Ecopetrol y Celsia en la Bolsa de Valores de Colombia.\n",
    "* Se descargan los datos históricos de precios para un año, concretamente entre el 11 de marzo de 2024 y el 11 de marzo de 2025.\n",
    "\"\"\"\n",
    "dat_ec = yf.Ticker(\"ECOPETROL.CL\") \n",
    "dat_cl = yf.Ticker(\"CELSIA.CL\") \n",
    "\n",
    "datos_ecopetrol = dat_ec.history(start=\"2024-03-11\",end=\"2025-03-12\")\n",
    "datos_celsia = dat_cl.history(start=\"2024-03-11\",end=\"2025-03-12\")\n"
   ]
  },
  {
   "cell_type": "code",
   "execution_count": 3,
   "id": "97831a4c-fbbb-4227-9104-f8eef4f64021",
   "metadata": {},
   "outputs": [
    {
     "data": {
      "text/html": [
       "<div>\n",
       "<style scoped>\n",
       "    .dataframe tbody tr th:only-of-type {\n",
       "        vertical-align: middle;\n",
       "    }\n",
       "\n",
       "    .dataframe tbody tr th {\n",
       "        vertical-align: top;\n",
       "    }\n",
       "\n",
       "    .dataframe thead th {\n",
       "        text-align: right;\n",
       "    }\n",
       "</style>\n",
       "<table border=\"1\" class=\"dataframe\">\n",
       "  <thead>\n",
       "    <tr style=\"text-align: right;\">\n",
       "      <th></th>\n",
       "      <th>Open</th>\n",
       "      <th>High</th>\n",
       "      <th>Low</th>\n",
       "      <th>Close</th>\n",
       "      <th>Volume</th>\n",
       "      <th>Dividends</th>\n",
       "      <th>Stock Splits</th>\n",
       "    </tr>\n",
       "    <tr>\n",
       "      <th>Date</th>\n",
       "      <th></th>\n",
       "      <th></th>\n",
       "      <th></th>\n",
       "      <th></th>\n",
       "      <th></th>\n",
       "      <th></th>\n",
       "      <th></th>\n",
       "    </tr>\n",
       "  </thead>\n",
       "  <tbody>\n",
       "    <tr>\n",
       "      <th>2024-03-11 00:00:00-04:00</th>\n",
       "      <td>1839.808770</td>\n",
       "      <td>1862.245463</td>\n",
       "      <td>1812.884740</td>\n",
       "      <td>1848.783447</td>\n",
       "      <td>7513846</td>\n",
       "      <td>0.0</td>\n",
       "      <td>0.0</td>\n",
       "    </tr>\n",
       "    <tr>\n",
       "      <th>2024-03-12 00:00:00-04:00</th>\n",
       "      <td>1848.783468</td>\n",
       "      <td>1875.707499</td>\n",
       "      <td>1839.808791</td>\n",
       "      <td>1862.245483</td>\n",
       "      <td>4786471</td>\n",
       "      <td>0.0</td>\n",
       "      <td>0.0</td>\n",
       "    </tr>\n",
       "    <tr>\n",
       "      <th>2024-03-13 00:00:00-04:00</th>\n",
       "      <td>1884.682265</td>\n",
       "      <td>1898.144281</td>\n",
       "      <td>1866.732910</td>\n",
       "      <td>1866.732910</td>\n",
       "      <td>3251229</td>\n",
       "      <td>0.0</td>\n",
       "      <td>0.0</td>\n",
       "    </tr>\n",
       "    <tr>\n",
       "      <th>2024-03-14 00:00:00-04:00</th>\n",
       "      <td>1871.220221</td>\n",
       "      <td>1902.631592</td>\n",
       "      <td>1857.758205</td>\n",
       "      <td>1902.631592</td>\n",
       "      <td>7189970</td>\n",
       "      <td>0.0</td>\n",
       "      <td>0.0</td>\n",
       "    </tr>\n",
       "    <tr>\n",
       "      <th>2024-03-15 00:00:00-04:00</th>\n",
       "      <td>1902.631591</td>\n",
       "      <td>1983.403687</td>\n",
       "      <td>1889.169575</td>\n",
       "      <td>1983.403687</td>\n",
       "      <td>46520253</td>\n",
       "      <td>0.0</td>\n",
       "      <td>0.0</td>\n",
       "    </tr>\n",
       "    <tr>\n",
       "      <th>...</th>\n",
       "      <td>...</td>\n",
       "      <td>...</td>\n",
       "      <td>...</td>\n",
       "      <td>...</td>\n",
       "      <td>...</td>\n",
       "      <td>...</td>\n",
       "      <td>...</td>\n",
       "    </tr>\n",
       "    <tr>\n",
       "      <th>2025-03-05 00:00:00-05:00</th>\n",
       "      <td>1691.726624</td>\n",
       "      <td>1745.574686</td>\n",
       "      <td>1691.726624</td>\n",
       "      <td>1732.112671</td>\n",
       "      <td>8718919</td>\n",
       "      <td>0.0</td>\n",
       "      <td>0.0</td>\n",
       "    </tr>\n",
       "    <tr>\n",
       "      <th>2025-03-06 00:00:00-05:00</th>\n",
       "      <td>1732.112685</td>\n",
       "      <td>1808.397440</td>\n",
       "      <td>1727.625346</td>\n",
       "      <td>1794.935425</td>\n",
       "      <td>9321401</td>\n",
       "      <td>0.0</td>\n",
       "      <td>0.0</td>\n",
       "    </tr>\n",
       "    <tr>\n",
       "      <th>2025-03-07 00:00:00-05:00</th>\n",
       "      <td>1794.935386</td>\n",
       "      <td>1848.783447</td>\n",
       "      <td>1794.935386</td>\n",
       "      <td>1848.783447</td>\n",
       "      <td>7431758</td>\n",
       "      <td>0.0</td>\n",
       "      <td>0.0</td>\n",
       "    </tr>\n",
       "    <tr>\n",
       "      <th>2025-03-10 00:00:00-04:00</th>\n",
       "      <td>1848.783564</td>\n",
       "      <td>1848.783564</td>\n",
       "      <td>1808.397515</td>\n",
       "      <td>1817.372192</td>\n",
       "      <td>6324735</td>\n",
       "      <td>0.0</td>\n",
       "      <td>0.0</td>\n",
       "    </tr>\n",
       "    <tr>\n",
       "      <th>2025-03-11 00:00:00-04:00</th>\n",
       "      <td>1817.372131</td>\n",
       "      <td>1839.808824</td>\n",
       "      <td>1768.011407</td>\n",
       "      <td>1776.986084</td>\n",
       "      <td>15499528</td>\n",
       "      <td>0.0</td>\n",
       "      <td>0.0</td>\n",
       "    </tr>\n",
       "  </tbody>\n",
       "</table>\n",
       "<p>251 rows × 7 columns</p>\n",
       "</div>"
      ],
      "text/plain": [
       "                                  Open         High          Low        Close  \\\n",
       "Date                                                                            \n",
       "2024-03-11 00:00:00-04:00  1839.808770  1862.245463  1812.884740  1848.783447   \n",
       "2024-03-12 00:00:00-04:00  1848.783468  1875.707499  1839.808791  1862.245483   \n",
       "2024-03-13 00:00:00-04:00  1884.682265  1898.144281  1866.732910  1866.732910   \n",
       "2024-03-14 00:00:00-04:00  1871.220221  1902.631592  1857.758205  1902.631592   \n",
       "2024-03-15 00:00:00-04:00  1902.631591  1983.403687  1889.169575  1983.403687   \n",
       "...                                ...          ...          ...          ...   \n",
       "2025-03-05 00:00:00-05:00  1691.726624  1745.574686  1691.726624  1732.112671   \n",
       "2025-03-06 00:00:00-05:00  1732.112685  1808.397440  1727.625346  1794.935425   \n",
       "2025-03-07 00:00:00-05:00  1794.935386  1848.783447  1794.935386  1848.783447   \n",
       "2025-03-10 00:00:00-04:00  1848.783564  1848.783564  1808.397515  1817.372192   \n",
       "2025-03-11 00:00:00-04:00  1817.372131  1839.808824  1768.011407  1776.986084   \n",
       "\n",
       "                             Volume  Dividends  Stock Splits  \n",
       "Date                                                          \n",
       "2024-03-11 00:00:00-04:00   7513846        0.0           0.0  \n",
       "2024-03-12 00:00:00-04:00   4786471        0.0           0.0  \n",
       "2024-03-13 00:00:00-04:00   3251229        0.0           0.0  \n",
       "2024-03-14 00:00:00-04:00   7189970        0.0           0.0  \n",
       "2024-03-15 00:00:00-04:00  46520253        0.0           0.0  \n",
       "...                             ...        ...           ...  \n",
       "2025-03-05 00:00:00-05:00   8718919        0.0           0.0  \n",
       "2025-03-06 00:00:00-05:00   9321401        0.0           0.0  \n",
       "2025-03-07 00:00:00-05:00   7431758        0.0           0.0  \n",
       "2025-03-10 00:00:00-04:00   6324735        0.0           0.0  \n",
       "2025-03-11 00:00:00-04:00  15499528        0.0           0.0  \n",
       "\n",
       "[251 rows x 7 columns]"
      ]
     },
     "execution_count": 3,
     "metadata": {},
     "output_type": "execute_result"
    }
   ],
   "source": [
    "datos_ecopetrol"
   ]
  },
  {
   "cell_type": "markdown",
   "id": "953285fc-d4b0-4f86-a304-a946c212c38e",
   "metadata": {},
   "source": [
    "### ☝️ **Descripción de la Tabla**  \n",
    "\n",
    "Esta tabla presenta los 5 valores más antiguos y los 5 más recientes dentro del período seleccionado para **Ecopetrol**.  \n",
    "\n",
    "Además, en la parte inferior se indica que el conjunto de datos contiene **251 registros** distribuidos en **7 columnas**, correspondientes a la información histórica de Ecopetrol.  "
   ]
  },
  {
   "cell_type": "code",
   "execution_count": 4,
   "id": "ed67780f-90a6-41dd-8426-3ee6cf0da5ce",
   "metadata": {},
   "outputs": [
    {
     "data": {
      "text/html": [
       "<div>\n",
       "<style scoped>\n",
       "    .dataframe tbody tr th:only-of-type {\n",
       "        vertical-align: middle;\n",
       "    }\n",
       "\n",
       "    .dataframe tbody tr th {\n",
       "        vertical-align: top;\n",
       "    }\n",
       "\n",
       "    .dataframe thead th {\n",
       "        text-align: right;\n",
       "    }\n",
       "</style>\n",
       "<table border=\"1\" class=\"dataframe\">\n",
       "  <thead>\n",
       "    <tr style=\"text-align: right;\">\n",
       "      <th></th>\n",
       "      <th>Open</th>\n",
       "      <th>High</th>\n",
       "      <th>Low</th>\n",
       "      <th>Close</th>\n",
       "      <th>Volume</th>\n",
       "      <th>Dividends</th>\n",
       "      <th>Stock Splits</th>\n",
       "    </tr>\n",
       "    <tr>\n",
       "      <th>Date</th>\n",
       "      <th></th>\n",
       "      <th></th>\n",
       "      <th></th>\n",
       "      <th></th>\n",
       "      <th></th>\n",
       "      <th></th>\n",
       "      <th></th>\n",
       "    </tr>\n",
       "  </thead>\n",
       "  <tbody>\n",
       "    <tr>\n",
       "      <th>2024-03-11 00:00:00-04:00</th>\n",
       "      <td>3563.944902</td>\n",
       "      <td>3573.071521</td>\n",
       "      <td>3536.565043</td>\n",
       "      <td>3559.381592</td>\n",
       "      <td>153741</td>\n",
       "      <td>0.0</td>\n",
       "      <td>0.0</td>\n",
       "    </tr>\n",
       "    <tr>\n",
       "      <th>2024-03-12 00:00:00-04:00</th>\n",
       "      <td>3573.071521</td>\n",
       "      <td>3595.888070</td>\n",
       "      <td>3527.438424</td>\n",
       "      <td>3559.381592</td>\n",
       "      <td>191639</td>\n",
       "      <td>0.0</td>\n",
       "      <td>0.0</td>\n",
       "    </tr>\n",
       "    <tr>\n",
       "      <th>2024-03-13 00:00:00-04:00</th>\n",
       "      <td>3550.255038</td>\n",
       "      <td>3550.255038</td>\n",
       "      <td>3541.128418</td>\n",
       "      <td>3541.128418</td>\n",
       "      <td>122083</td>\n",
       "      <td>0.0</td>\n",
       "      <td>0.0</td>\n",
       "    </tr>\n",
       "    <tr>\n",
       "      <th>2024-03-14 00:00:00-04:00</th>\n",
       "      <td>3541.128382</td>\n",
       "      <td>3541.128382</td>\n",
       "      <td>3500.058594</td>\n",
       "      <td>3500.058594</td>\n",
       "      <td>165578</td>\n",
       "      <td>0.0</td>\n",
       "      <td>0.0</td>\n",
       "    </tr>\n",
       "    <tr>\n",
       "      <th>2024-03-15 00:00:00-04:00</th>\n",
       "      <td>3504.621964</td>\n",
       "      <td>3532.001823</td>\n",
       "      <td>3194.316895</td>\n",
       "      <td>3194.316895</td>\n",
       "      <td>3558941</td>\n",
       "      <td>0.0</td>\n",
       "      <td>0.0</td>\n",
       "    </tr>\n",
       "    <tr>\n",
       "      <th>...</th>\n",
       "      <td>...</td>\n",
       "      <td>...</td>\n",
       "      <td>...</td>\n",
       "      <td>...</td>\n",
       "      <td>...</td>\n",
       "      <td>...</td>\n",
       "      <td>...</td>\n",
       "    </tr>\n",
       "    <tr>\n",
       "      <th>2025-03-05 00:00:00-05:00</th>\n",
       "      <td>3677.565623</td>\n",
       "      <td>3692.374613</td>\n",
       "      <td>3652.883975</td>\n",
       "      <td>3682.501953</td>\n",
       "      <td>461001</td>\n",
       "      <td>0.0</td>\n",
       "      <td>0.0</td>\n",
       "    </tr>\n",
       "    <tr>\n",
       "      <th>2025-03-06 00:00:00-05:00</th>\n",
       "      <td>3682.501953</td>\n",
       "      <td>3692.374613</td>\n",
       "      <td>3662.756634</td>\n",
       "      <td>3682.501953</td>\n",
       "      <td>405306</td>\n",
       "      <td>0.0</td>\n",
       "      <td>0.0</td>\n",
       "    </tr>\n",
       "    <tr>\n",
       "      <th>2025-03-07 00:00:00-05:00</th>\n",
       "      <td>3682.501895</td>\n",
       "      <td>3717.056203</td>\n",
       "      <td>3677.565566</td>\n",
       "      <td>3712.119873</td>\n",
       "      <td>643821</td>\n",
       "      <td>0.0</td>\n",
       "      <td>0.0</td>\n",
       "    </tr>\n",
       "    <tr>\n",
       "      <th>2025-03-10 00:00:00-04:00</th>\n",
       "      <td>3712.119881</td>\n",
       "      <td>3721.992540</td>\n",
       "      <td>3682.501903</td>\n",
       "      <td>3687.438232</td>\n",
       "      <td>254229</td>\n",
       "      <td>0.0</td>\n",
       "      <td>0.0</td>\n",
       "    </tr>\n",
       "    <tr>\n",
       "      <th>2025-03-11 00:00:00-04:00</th>\n",
       "      <td>3687.438342</td>\n",
       "      <td>3692.374671</td>\n",
       "      <td>3652.884033</td>\n",
       "      <td>3652.884033</td>\n",
       "      <td>352202</td>\n",
       "      <td>0.0</td>\n",
       "      <td>0.0</td>\n",
       "    </tr>\n",
       "  </tbody>\n",
       "</table>\n",
       "<p>251 rows × 7 columns</p>\n",
       "</div>"
      ],
      "text/plain": [
       "                                  Open         High          Low        Close  \\\n",
       "Date                                                                            \n",
       "2024-03-11 00:00:00-04:00  3563.944902  3573.071521  3536.565043  3559.381592   \n",
       "2024-03-12 00:00:00-04:00  3573.071521  3595.888070  3527.438424  3559.381592   \n",
       "2024-03-13 00:00:00-04:00  3550.255038  3550.255038  3541.128418  3541.128418   \n",
       "2024-03-14 00:00:00-04:00  3541.128382  3541.128382  3500.058594  3500.058594   \n",
       "2024-03-15 00:00:00-04:00  3504.621964  3532.001823  3194.316895  3194.316895   \n",
       "...                                ...          ...          ...          ...   \n",
       "2025-03-05 00:00:00-05:00  3677.565623  3692.374613  3652.883975  3682.501953   \n",
       "2025-03-06 00:00:00-05:00  3682.501953  3692.374613  3662.756634  3682.501953   \n",
       "2025-03-07 00:00:00-05:00  3682.501895  3717.056203  3677.565566  3712.119873   \n",
       "2025-03-10 00:00:00-04:00  3712.119881  3721.992540  3682.501903  3687.438232   \n",
       "2025-03-11 00:00:00-04:00  3687.438342  3692.374671  3652.884033  3652.884033   \n",
       "\n",
       "                            Volume  Dividends  Stock Splits  \n",
       "Date                                                         \n",
       "2024-03-11 00:00:00-04:00   153741        0.0           0.0  \n",
       "2024-03-12 00:00:00-04:00   191639        0.0           0.0  \n",
       "2024-03-13 00:00:00-04:00   122083        0.0           0.0  \n",
       "2024-03-14 00:00:00-04:00   165578        0.0           0.0  \n",
       "2024-03-15 00:00:00-04:00  3558941        0.0           0.0  \n",
       "...                            ...        ...           ...  \n",
       "2025-03-05 00:00:00-05:00   461001        0.0           0.0  \n",
       "2025-03-06 00:00:00-05:00   405306        0.0           0.0  \n",
       "2025-03-07 00:00:00-05:00   643821        0.0           0.0  \n",
       "2025-03-10 00:00:00-04:00   254229        0.0           0.0  \n",
       "2025-03-11 00:00:00-04:00   352202        0.0           0.0  \n",
       "\n",
       "[251 rows x 7 columns]"
      ]
     },
     "execution_count": 4,
     "metadata": {},
     "output_type": "execute_result"
    }
   ],
   "source": [
    "datos_celsia"
   ]
  },
  {
   "cell_type": "markdown",
   "id": "c70f2f86-5443-4a15-98e2-fbf46ad00e2b",
   "metadata": {},
   "source": [
    "\n",
    "### ☝️ **Descripción de la Tabla**  \n",
    "\n",
    "Esta tabla presenta los 5 valores más antiguos y los 5 más recientes dentro del período seleccionado para **Celsia**.  \n",
    "\n",
    "Además, en la parte inferior se indica que el conjunto de datos contiene **251 registros** distribuidos en **7 columnas**, correspondientes a la información histórica de Ecopetrol.  "
   ]
  },
  {
   "cell_type": "code",
   "execution_count": 5,
   "id": "9a173987-7c78-48bc-ab33-ae353d9daf4d",
   "metadata": {},
   "outputs": [],
   "source": [
    "\"\"\"\n",
    "📌 **Selección de Datos**  \n",
    "Se extraen únicamente los datos del precio de cierre de las acciones de Celsia y Ecopetrol\n",
    "ya que es la información necesaria para calcular el VaR del portafolio.  \n",
    "\"\"\"\n",
    "\n",
    "accion_ecopetrol = datos_ecopetrol[['Close']].copy() #metodo copy() para evitar generar cambios en el dataframe original\n",
    "accion_celsia = datos_celsia[['Close']].copy()"
   ]
  },
  {
   "cell_type": "markdown",
   "id": "8c1cfd79-8faf-46bb-a1ad-a5f9b59c54b5",
   "metadata": {},
   "source": [
    "### 2️⃣ **Cálculo de retornos diarios**  "
   ]
  },
  {
   "cell_type": "markdown",
   "id": "8c063e26-1ccb-4e6a-bf46-f219d77fa8f1",
   "metadata": {},
   "source": [
    "El **retorno diario** mide la variación porcentual en el precio de cierre de una acción respecto al día anterior. Se calcula utilizando la siguiente fórmula:  \n",
    "\n",
    "$$\n",
    "R_t = \\frac{P_t - P_{t-1}}{P_{t-1}}\n",
    "$$\n",
    "\n",
    "Donde:  \n",
    "- $R_t$: es el retorno del día \\( t \\).  \n",
    "- $P_t$: es el precio de cierre en el día \\( t \\).  \n",
    "- $P_{t-1}$: es el precio de cierre en el día \\( t-1 \\)."
   ]
  },
  {
   "cell_type": "code",
   "execution_count": 6,
   "id": "c3e56cae-0294-4091-b67b-7a6fa9241f29",
   "metadata": {},
   "outputs": [],
   "source": [
    "\"\"\"  \n",
    "Las siguientes líneas de código calculan el retorno diario de las acciones de Ecopetrol y Celsia,  \n",
    "usando la variación porcentual entre el precio de cierre actual y el del día anterior.  \n",
    "\"\"\"  \n",
    "\n",
    "accion_ecopetrol['Retorno_diario'] = (accion_ecopetrol['Close'] - accion_ecopetrol['Close'].shift(1))/accion_ecopetrol['Close'].shift(1)\n",
    "accion_ecopetrol.fillna(0, inplace=True)\n",
    "accion_celsia['Retorno_diario'] = (accion_celsia['Close'] - accion_celsia['Close'].shift(1))/accion_celsia['Close'].shift(1)\n",
    "accion_celsia.fillna(0, inplace=True)"
   ]
  },
  {
   "cell_type": "markdown",
   "id": "16cd6a86-9093-4a8e-a27a-68e9f897673e",
   "metadata": {},
   "source": [
    "### 3️⃣ **Cálculo de los parámetros de cada acción**  "
   ]
  },
  {
   "cell_type": "code",
   "execution_count": 7,
   "id": "e512ff7d-39ea-4b6f-b170-5f57ae4de748",
   "metadata": {},
   "outputs": [],
   "source": [
    "\"\"\" \n",
    "Calcula la varianza y el promedio de los retornos diarios de las acciones de Ecopetrol y Celsia.\n",
    "La varianza mide la volatilidad o dispersión de los retornos respecto a su promedio,\n",
    "mientras que el promedio representa el rendimiento esperado de la acción.\n",
    "\"\"\"\n",
    "var_Ecopetrol = accion_ecopetrol['Retorno_diario'].var() #varianza de los retornos diarios de ecopetrol\n",
    "exp_Ecopetrol = accion_ecopetrol['Retorno_diario'].mean() #promedio de los retornos diarios de ecopetrol \n",
    "\n",
    "var_Celsia = accion_celsia['Retorno_diario'].var() #varianza de los retornos diarios de celsia\n",
    "exp_Celsia = accion_celsia['Retorno_diario'].mean() #varianza de los retornos diarios "
   ]
  },
  {
   "cell_type": "markdown",
   "id": "d7859e9f-306e-47c3-a0d7-1f3b28e8956d",
   "metadata": {},
   "source": [
    "### 4️⃣ **Cálculo de la covarianza** "
   ]
  },
  {
   "cell_type": "code",
   "execution_count": 8,
   "id": "ec1a42d8-6941-4b0d-a926-708b7bed7113",
   "metadata": {},
   "outputs": [
    {
     "data": {
      "text/plain": [
       "array([[7.61334479e-04, 6.30801119e-05],\n",
       "       [6.30801119e-05, 2.45040348e-04]])"
      ]
     },
     "execution_count": 8,
     "metadata": {},
     "output_type": "execute_result"
    }
   ],
   "source": [
    "\"\"\"\n",
    "Calcula la matriz de covarianza entre los retornos diarios de las acciones de Ecopetrol y Celsia.\n",
    "La covarianza mide la relación lineal entre ambas series de datos:\n",
    "- Un valor positivo indica que tienden a moverse en la misma dirección.\n",
    "- Un valor negativo indica que tienden a moverse en direcciones opuestas.\n",
    "- Un valor cercano a cero sugiere que no hay una relación lineal fuerte entre ellas.\n",
    "\"\"\"\n",
    "np.cov(accion_ecopetrol['Retorno_diario'],accion_celsia['Retorno_diario']) "
   ]
  },
  {
   "cell_type": "markdown",
   "id": "bc23652b-2457-4854-91f1-0772e25e47a1",
   "metadata": {},
   "source": [
    "☝️ **Descripción del arreglo**\n",
    "\n",
    "Este arreglo representa la matriz de covarianza entre los retornos diarios de Ecopetrol y Celsia. Los elementos en la diagonal corresponden a la varianza de cada empresa: específicamente, el valor en la fila 1, columna 1, representa la varianza de Ecopetrol, mientras que el valor en la fila 2, columna 2, corresponde a la varianza de Celsia. Por otro lado, los elementos fuera de la diagonal reflejan la covarianza entre los retornos diarios de ambas compañías."
   ]
  },
  {
   "cell_type": "markdown",
   "id": "a327eacd-1534-4bdf-a581-d57da1a79753",
   "metadata": {},
   "source": [
    "### 5️⃣ **Cálculo de la desviación estándar y retorno del portafolio**  "
   ]
  },
  {
   "cell_type": "code",
   "execution_count": 9,
   "id": "67e1f753-6799-4ee7-b1e1-e73c96309778",
   "metadata": {},
   "outputs": [],
   "source": [
    "valor_portafolio = 300000000 \n",
    "peso_Ecopetrol = 0.55\n",
    "peso_Celsia = 0.45 "
   ]
  },
  {
   "cell_type": "markdown",
   "id": "8392f992-7e2c-425b-b022-7397c38c88c8",
   "metadata": {},
   "source": [
    "La **varianza de un portafolio** compuesto por dos activos se calcula con la siguiente fórmula:  \n",
    "\n",
    "$$var = W^2_{1}*σ^2_{1}+W^2_{2}*σ^2_{2}+2*W_{1}W_{2}cov_{1,2}$$\n",
    "\n",
    "En nuestro caso, variables de la formula son equivalentes a:\n",
    "\n",
    "- $var$: var_portafolio; *varianza del portafolio*\n",
    "- $W_{1}$: peso_Ecopetrol; *peso de Ecopetrol en el portafolio*\n",
    "- $σ^2_{1}$: var_Ecopetrol; *varianza de Ecopetrol*\n",
    "- $W_{2}$: peso_Celsia; *peso de Celsia en el portafolio*\n",
    "- $σ^2_{2}$: var_Celsia; *varianza de Celsia*\n",
    "- $cov_{1,2}$: cov_Ecopetrol_Celsia ; *covarianza entre Ecopetrol y Celsia*\n",
    "## 👇"
   ]
  },
  {
   "cell_type": "code",
   "execution_count": 10,
   "id": "8bfc4940-7fd7-4c90-81c1-dec4b205d861",
   "metadata": {},
   "outputs": [],
   "source": [
    "cov_Ecopetrol_Celsia = np.cov(accion_ecopetrol['Retorno_diario'],accion_celsia['Retorno_diario'])[0,1] #Se asigna el valor de la Covarianza entre los retornos diarios de Ecopetrol y Celsia"
   ]
  },
  {
   "cell_type": "code",
   "execution_count": 11,
   "id": "83ded56e-d142-4f26-9344-3b4e79fe8ed2",
   "metadata": {},
   "outputs": [],
   "source": [
    "var_portafolio = (peso_Ecopetrol**2)*var_Ecopetrol +(peso_Celsia**2)*var_Celsia +2*peso_Ecopetrol*peso_Celsia*cov_Ecopetrol_Celsia \n",
    "\n",
    "std_portafolio = np.sqrt(var_portafolio) # Asignamos a std_portafolio la raíz cuadrada de la varianza del portafolio, esto es, la desviación estándar del portafolio.viacion estandar del portafolio"
   ]
  },
  {
   "cell_type": "code",
   "execution_count": 12,
   "id": "ceef76e8-8fe0-4f38-b24e-f56d6ff6ebd7",
   "metadata": {},
   "outputs": [],
   "source": [
    "\"\"\"\n",
    "Calcula el retorno esperado del portafolio.\n",
    "El retorno esperado es una medida del rendimiento promedio que se espera obtener del portafolio.\n",
    "\n",
    "- valor_portafolio: Valor total del portafolio.\n",
    "- exp_Ecopetrol y exp_Celsia: Retornos esperados de cada activo.\n",
    "- peso_Ecopetrol y peso_Celsia: Proporción de inversión en cada activo.\n",
    "\"\"\"\n",
    "\n",
    "exp_portafolio = valor_portafolio*(exp_Ecopetrol*peso_Ecopetrol+exp_Celsia*peso_Celsia) #Se calcula el retorno esperado del portafolio "
   ]
  },
  {
   "cell_type": "markdown",
   "id": "c4c84ae0-d072-46ea-9128-8e3a4226d050",
   "metadata": {},
   "source": [
    "### 6️⃣ **Generacion de Z-Scores aleatorios**  "
   ]
  },
  {
   "cell_type": "code",
   "execution_count": 13,
   "id": "fdf59058-8234-4831-844d-1d0b13175f40",
   "metadata": {},
   "outputs": [],
   "source": [
    "z_scores = np.random.normal(size=1_000_000)\n",
    "VaR_escenario = exp_portafolio -valor_portafolio*std_portafolio*z_scores"
   ]
  },
  {
   "cell_type": "markdown",
   "id": "452cb35e-2dd4-4b1e-b1c4-7fa5878638a3",
   "metadata": {},
   "source": [
    "### 7️⃣ **Visualización de la distribución normal del portafolio**  \n",
    "\n",
    "El siguiente gráfico muestra el histograma de los escenarios simulados para el portafolio. El área sombreada en color naranja representa todas aquellas pérdidas que al menos alcanzan el **Value at Risk (VaR)** para un nivel de confianza del **95%**, es decir, el **cuantil 0.05** del histograma.  \n",
    "\n",
    "Además, la línea negra indica el valor del **VaR**, proporcionando una referencia visual clara del umbral de riesgo.  \n"
   ]
  },
  {
   "cell_type": "code",
   "execution_count": 14,
   "id": "79f8fbbc-89a1-48be-a0df-e73a836c18d5",
   "metadata": {
    "scrolled": true
   },
   "outputs": [
    {
     "data": {
      "image/png": "[encoded data removed]",
      "text/plain": [
       "<Figure size 640x480 with 1 Axes>"
      ]
     },
     "metadata": {},
     "output_type": "display_data"
    }
   ],
   "source": [
    "fig, ax = plt.subplots()\n",
    "\n",
    "quantile_5 = np.quantile(VaR_escenario,0.05)\n",
    "histograma = plt.hist(VaR_escenario,bins=1000,color='blue')\n",
    "\n",
    "for rect in histograma[2]:\n",
    "\n",
    "    if rect.get_x() <= quantile_5:\n",
    "        rect.set_facecolor('#FF8000')\n",
    "        \n",
    "    \n",
    "\n",
    "ax.xaxis.set_major_formatter(lambda x, pos: str(x / 1_000_000))  # Disminuye en un millón el tamaño de los valores en x  \n",
    "ax.axvline(x=quantile_5,linestyle='--',color='black',label='Retorno = ${:,.2f}'.format(quantile_5))\n",
    "plt.title('Histograma de Retornos Simulados', fontdict={'fontsize':18,'fontweight':700})\n",
    "plt.xlabel('Retornos',fontdict={'fontsize':14,'fontweight':700})\n",
    "plt.ylabel('Frecuencia',fontdict={'fontsize':14,'fontweight':700})\n",
    "plt.legend(loc='upper right')\n",
    "plt.tight_layout()\n",
    "sns.despine()\n",
    "plt.show()\n"
   ]
  },
  {
   "cell_type": "code",
   "execution_count": null,
   "id": "7c2d8ed0-bcc6-4d9e-8877-a31ad3b79ebc",
   "metadata": {},
   "outputs": [],
   "source": []
  }
 ],
 "metadata": {
  "kernelspec": {
   "display_name": "Python 3 (ipykernel)",
   "language": "python",
   "name": "python3"
  },
  "language_info": {
   "codemirror_mode": {
    "name": "ipython",
    "version": 3
   },
   "file_extension": ".py",
   "mimetype": "text/x-python",
   "name": "python",
   "nbconvert_exporter": "python",
   "pygments_lexer": "ipython3",
   "version": "3.12.3"
  }
 },
 "nbformat": 4,
 "nbformat_minor": 5
}
